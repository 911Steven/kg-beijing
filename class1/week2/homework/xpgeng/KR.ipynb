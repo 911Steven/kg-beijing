{
 "cells": [
  {
   "cell_type": "markdown",
   "metadata": {},
   "source": [
    "# week2 Assignment\n",
    "\n",
    "## 邮件结构\n",
    "\n",
    "- 将邮件的存储格式分为以下几部分\n",
    "   - 'Metadata': 这部分包含从MIME头提取的信息, 如'From', 'Receive', 'Send_time', 'Subject'等等\n",
    "   - 'Content': 这部分会包含所有的内容信息, 如'Body_text', 'Body_html', 'Recite', 'Attachment', 'Signature'等等\n",
    "   - 'Entities': 包含邮件中提到的各种实体, 如'Name', 'Organization', 'Time', 'Position', 'Tel'\n",
    "   - 'Relation': 包含邮件内的各种关系, 如邮件之间的关系, 邮件内容的语义关系.\n",
    "\n",
    "## 思路\n",
    "\n",
    "- 利用flanker提取MIME头, 将信息初步提取, 这是可以完成'Metadata'部分信息的提取\n",
    "- 利用Regex将邮件内容分解, 段落, 引用, 附件, 签名档一次提取出来.\n",
    "- 利用NLTK, jieba等分词工具, 进一步细化, 提取各个实体.\n",
    "- 最后进行更深入的关系分析提取.\n",
    "- 这样层层递进, 逐渐深入,\n",
    "\n",
    "\n",
    "## 难点\n",
    "\n",
    "- 分段有可能比较混乱, 这里可能会花一点时间\n",
    "- 引用通过'>','>>'来判断\n",
    "- 签名档因为比较复杂, 格式不一, 甚至有的没有, 有的特别简单, 信息不够全面\n",
    "- 关系表示, 邮件内部, 邮件外部\n",
    "\n",
    "## Tips\n",
    "\n",
    "- 邮件的结尾都是--boundary--\n",
    "    - 此处有坑\n"
   ]
  },
  {
   "cell_type": "code",
   "execution_count": 5,
   "metadata": {
    "collapsed": true
   },
   "outputs": [],
   "source": [
    "import os\n",
    "import re\n",
    "import json\n",
    "import flanker\n",
    "\n",
    "from bs4 import BeautifulSoup\n",
    "from flanker import mime"
   ]
  },
  {
   "cell_type": "markdown",
   "metadata": {},
   "source": [
    "### 读取数据"
   ]
  },
  {
   "cell_type": "code",
   "execution_count": 117,
   "metadata": {
    "collapsed": true
   },
   "outputs": [],
   "source": [
    "def prepare_data(filename='2013-11.mbx'):\n",
    "    with open(filename, 'r') as f:\n",
    "        data = f.read()\n",
    "    f.close()\n",
    "    data_list = filter(None, re.split(r'From\\s([\\w+.?]+@(\\w+\\.)+(\\w+))', data))  #  \n",
    "    # Here I have to add twice for-loop, I haven't analyse the reason\n",
    "    for data in data_list:\n",
    "        if len(str(data)) < 500:\n",
    "            data_list.remove(data)\n",
    "    for data in data_list:\n",
    "        if len(str(data)) < 500:\n",
    "            data_list.remove(data)\n",
    "    return data_list  "
   ]
  },
  {
   "cell_type": "code",
   "execution_count": 118,
   "metadata": {
    "collapsed": false
   },
   "outputs": [],
   "source": [
    "data_list = prepare_data('2013-11.mbx')"
   ]
  },
  {
   "cell_type": "code",
   "execution_count": 120,
   "metadata": {
    "collapsed": true
   },
   "outputs": [],
   "source": [
    "def extract_headers(msg_string):\n",
    "    mime_dict = {}\n",
    "    msg = mime.from_string(msg_string)\n",
    "    msg_list = msg.headers.items()\n",
    "    mime_keys = ['From', 'Date', 'Cc', 'To', 'Subject', ]\n",
    "    for item in msg_list:\n",
    "        if item[0] in mime_keys:\n",
    "            mime_dict[item[0]] = item[1]\n",
    "    return mime_dict"
   ]
  },
  {
   "cell_type": "code",
   "execution_count": 121,
   "metadata": {
    "collapsed": false
   },
   "outputs": [
    {
     "data": {
      "text/plain": [
       "{'Cc': u'\\u4e2d\\u6587HTML5\\u540c\\u6a02\\u6703ML <public-html-ig-zh@w3.org>',\n",
       " 'Date': u'Wed, 6 Nov 2013 20:09:11 +0800',\n",
       " 'From': u'\\u8463\\u798f\\u8208 Bobby Tung <bobbytung@wanderer.tw>',\n",
       " 'Subject': u'Re: \\u95dc\\u65bc<cite>\\u5143\\u7d20\\u6700\\u8fd1\\u7684\\u5b9a\\u7fa9\\u4fee\\u6539',\n",
       " 'To': u'Yijun Chen <ethantw@me.com>'}"
      ]
     },
     "execution_count": 121,
     "metadata": {},
     "output_type": "execute_result"
    }
   ],
   "source": [
    "extract_headers(data_list[3])"
   ]
  },
  {
   "cell_type": "code",
   "execution_count": 184,
   "metadata": {
    "collapsed": true
   },
   "outputs": [],
   "source": [
    "def create_name_list(data_list):\n",
    "    name_list = []\n",
    "    p = re.compile(ur'\\\"?([\\w\\s\\(\\)]+|[\\x80-\\xff]+)\\\"?\\s<')\n",
    "    for message_string in data_list:\n",
    "        msg = mime.from_string(message_string)\n",
    "        for item in msg.headers.items():\n",
    "            if item[0] == 'From':\n",
    "                name = p.search(item[1].encode('utf-8')).group(1)\n",
    "                name_list.append(name)\n",
    "    name_list = list(set(name_list))\n",
    "    name_list += ['Cindy', 'Kenny', 'Chen Yijun', 'Chunming', '-ambrose']\n",
    "    name_list.remove('com')\n",
    "    name_list.remove(' Chunming')\n",
    "    name_list.remove(' Bobby Tung')\n",
    "    name_list.remove('Hawkeyes Wind')\n",
    "    return name_list"
   ]
  },
  {
   "cell_type": "code",
   "execution_count": 204,
   "metadata": {
    "collapsed": true
   },
   "outputs": [],
   "source": [
    "def extract_signature(message_string, name_list):\n",
    "    signature_list = []\n",
    "    for name in name_list:\n",
    "        p_name = re.compile(r'^%s.+'%name, re.MULTILINE | re.DOTALL)\n",
    "        msg = mime.from_string(message_string)\n",
    "        for part in msg.parts:\n",
    "            if not isinstance(part.body, (type(None), str)):\n",
    "                if p_name.findall(part.body.encode('utf-8')):\n",
    "                    signature_list += p_name.findall(part.body.encode('utf-8'))\n",
    "    signature = None\n",
    "    for item in signature_list:\n",
    "        if len(item) < 300: \n",
    "            signature = item # 已经知道小于300的就一个\n",
    "    if not signature:\n",
    "        return None\n",
    "    elif 'Hawkeyes Wind' in signature or 'Zhiqiang' in signature: # 只能不断添加规则...\n",
    "        return None\n",
    "    elif '<' in signature:\n",
    "        soup = BeautifulSoup(item, 'html.parser')\n",
    "        signature = soup.get_text()\n",
    "        return signature\n",
    "    else:\n",
    "        return signature\n",
    "    "
   ]
  },
  {
   "cell_type": "code",
   "execution_count": 210,
   "metadata": {
    "collapsed": true
   },
   "outputs": [],
   "source": [
    "def extract_content(message_string, name_list):\n",
    "    \n",
    "    content_dict = {}\n",
    "    p = re.compile(ur'\\\"?([\\w\\s\\(\\)]+|[\\x80-\\xff]+)\\\"?\\s<')\n",
    "    msg = mime.from_string(message_string)   \n",
    "    for part in msg.parts:\n",
    "        if not isinstance(part.body, (type(None), str)):\n",
    "            content_dict[str(part)] = part.body\n",
    "    signature = extract_signature(message_string, name_list)\n",
    "    content_dict['Signature'] = signature\n",
    "    return content_dict\n",
    "    # key 未修正, 直接用了带()的值, 附件也未区分, 直接根据content-type有什么添加什么\n",
    "    # 编码可能有问题"
   ]
  },
  {
   "cell_type": "code",
   "execution_count": 208,
   "metadata": {
    "collapsed": true
   },
   "outputs": [],
   "source": [
    "name_list = create_name_list(data_list)"
   ]
  },
  {
   "cell_type": "code",
   "execution_count": 213,
   "metadata": {
    "collapsed": false
   },
   "outputs": [
    {
     "data": {
      "text/plain": [
       "{'(text/html)': u'<div dir=\"ltr\">\\u6700\\u8fd1\\u597d\\u591a\\u4e89\\u8bae\\u6027\\u7684\\u6539\\u52a8\\u554a\\u3002<div><br></div></div><div class=\"gmail_extra\"><br><br><div class=\"gmail_quote\">2013/11/6 \\u8463\\u798f\\u8208 Bobby Tung <span dir=\"ltr\">&lt;<a href=\"mailto:bobbytung@wanderer.tw\" target=\"_blank\">bobbytung@wanderer.tw</a>&gt;</span><br>\\r\\n<blockquote class=\"gmail_quote\" style=\"margin:0 0 0 .8ex;border-left:1px #ccc solid;padding-left:1ex\"><div style=\"word-wrap:break-word\"><div>Hi Ethan</div><div><br></div><div>\\u627e\\u4e86\\u4e00\\u4e0bHTMLWG\\u7684\\u8a0e\\u8ad6\\uff0c\\u9019\\u5152\\u6709\\u4e00\\u4e32\\u516b\\u6708\\u7684\\u5c0d\\u8a71\\uff1a</div><div><br></div>\\r\\n<div><a href=\"http://lists.w3.org/Archives/Public/public-html/2013Aug/0067.html\" target=\"_blank\">http://lists.w3.org/Archives/Public/public-html/2013Aug/0067.html</a></div><div><br></div><div>\\u611f\\u89ba\\u4e0a\\u5c31\\u662f\\u5168\\u4e16\\u754c\\u90fd\\u505a\\u932f\\uff0c\\u8207\\u5176\\u77ef\\u6b63\\u9019\\u4e16\\u754c\\uff0c\\u4e0d\\u5982\\u5c07\\u932f\\u5c31\\u932f\\u3002</div>\\r\\n<div><br></div><div>\\u95dc\\u65bc&lt;cite&gt;\\u7684\\u6f14\\u5316\\u53f2\\uff0cKarl\\u5728\\u9019\\u4e32\\u88e1\\u8003\\u64da\\u4e86\\u4e00\\u4e0b\\uff0c\\u7684\\u78ba\\u5728HTML 4.0.1\\u88e1\\u7684Sample\\u5c31\\u662f\\u53bb&lt;cite&gt;\\u675c\\u9b6f\\u9580&lt;/cite&gt;\\u3002\\u4f46\\u5230\\u4e86HTML 5\\uff0c\\u53c8\\u8981\\u628a\\u4eba\\u540d\\u4e0d\\u7b97\\u5728\\u5167\\u22ef\\u22ef\\u9019\\u9ebc\\u9806\\u4e0b\\u4f86\\u770b\\u7684\\u8a71\\uff0c5.1\\u628a\\u4eba\\u540d\\u52a0\\u56de\\u53bb\\u53cd\\u800c\\u662f\\u6bd4\\u8f03\\u5408\\u7406\\u7684\\u3002</div><div><br></div><div>\\u5728\\u4e2d\\u6587\\u7684\\u5be6\\u969b\\u6848\\u4f8b\\u4e2d\\uff0c\\u5e38\\u898b\\u5230\\u7684\\u7528\\u6cd5\\u5927\\u6982\\u662f\\u9019\\u6a23\\uff1a</div><div><br></div>\\r\\n<div>&lt;blockquote&gt;</div><div><span style=\"white-space:pre-wrap\">\\t</span>&lt;p&gt;\\u6211\\u601d\\uff0c\\u6545\\u6211\\u5728&lt;/p&gt;</div><div><span style=\"white-space:pre-wrap\">\\t</span>&lt;footer&gt;\\u2014\\u2014&lt;cite&gt;\\u7b1b\\u5361\\u723e&lt;/cite&gt;&lt;/footer&gt;</div>\\r\\n<div>&lt;/blockquote&gt;</div><div><br></div><div>\\u6211\\u66fe\\u6709\\u5728\\u505aEPUB\\u7684\\u6642\\u5019\\uff0c\\u8003\\u91cf\\u5230HTML 5\\u7684\\u898f\\u5b9a\\uff0c\\u800c\\u628a\\u7b1b\\u5361\\u723e\\u52a0\\u4e0a&lt;cite&gt;\\uff0c\\u4f46\\u7e3d\\u611f\\u89ba\\u9019\\u898f\\u7bc4\\u4e0d\\u5408\\u60c5\\u4e5f\\u4e0d\\u5408\\u7406\\u3002</div><div><br></div><div>\\u6240\\u4ee5\\uff0c\\u6211\\u8d0a\\u6210\\u4ee5microdata\\u4f86\\u8655\\u7406\\u66f8\\u540d\\u3001\\u7bc7\\u540d\\u3001\\u4eba\\u540d\\u3002\\u800c\\u4e14\\u9019\\u9ebc\\u505a\\u5c0d\\u65bc\\u50cfEPUB\\u9019\\u6a23\\u7684\\u7d50\\u69cb\\u5316\\u5167\\u5bb9\\u800c\\u8a00\\uff0c\\u80fd\\u62bd\\u51fa\\u4f86\\u4f5c\\u70baBiblography\\u6216\\u8005Quotation\\u7d22\\u5f15\\u3001\\u751a\\u81f3\\u8a9e\\u7fa9\\u5206\\u6790\\uff0c\\u90fd\\u8f03\\u4f73\\u3002</div>\\r\\n<div><br></div><div>\\u4ee5\\u4e0a\\u662f\\u95dc\\u65bc&lt;cite&gt;\\u61c9\\u7528\\u65bc\\u4eba\\u540d\\u7684\\u610f\\u898b\\u3002</div><div><br></div><div>\\u53e6\\u5916\\uff0c\\u5f9e\\u5be6\\u969b\\u66f8\\u4e2d\\u6a19\\u9ede\\u7b26\\u865f\\u7684\\u7528\\u6cd5\\u4f86\\u770b\\u3002\\u4f7f\\u7528\\u6ce2\\u6d6a\\u5e95\\u7dda\\u7532\\u5f0f\\u66f8\\u540d\\u865f\\u6642\\uff0c\\u624d\\u6703\\u4f7f\\u7528\\u5e95\\u7dda\\u5c08\\u540d\\u865f\\u3002\\u82e5\\u4f7f\\u7528\\u4e59\\u5f0f\\u66f8\\u540d\\u865f\\u6642\\uff0c\\u5f80\\u5f80\\u4e0d\\u7528\\u5c08\\u540d\\u865f\\u3002</div><div><br></div><div>\\u800c\\u4e59\\u5f0f\\u66f8\\u540d\\u865f\\u53c8\\u6709\\u8457\\u7bc7\\u540d\\u7684\\u7528\\u6cd5\\uff0c\\u50cf\\uff1a</div><div><br></div><div>1. \\u9b6f\\u8fc5\\u300a\\u5436\\u558a\\u300b\\u4e2d\\u7684\\u3008\\u72c2\\u4eba\\u65e5\\u8a18\\u3009</div>\\r\\n<div><br></div><div>2. \\u300a\\u79ae\\u8a18\\u30fb\\u5927\\u540c\\u300b</div><div><br></div><div>\\u5149\\u4e0d\\u8ac7\\u4eba\\u540d\\uff0c\\u7bc7\\u540d\\u7528\\u7684\\u55ae\\u66f8\\u540d\\u865f\\u8207\\u66f8\\u540d\\u7528\\u7684\\u96d9\\u66f8\\u540d\\u865f\\u8981\\u600e\\u9ebc\\u5206\\u5225\\uff0c\\u9019\\u4e5f\\u662f\\u500b\\u554f\\u984c\\u3002</div><div><br></div><div>\\u6211\\u7684\\u5efa\\u8b70\\u662f\\uff0c&lt;blockquote&gt;\\u4e2d&lt;cite&gt;\\u4f5c\\u70ba\\u51fa\\u8655\\u7684\\u8a9e\\u7fa9\\u95dc\\u4fc2\\u6700\\u70ba\\u91cd\\u8981\\uff0c\\u4e5f\\u61c9\\u512a\\u5148\\u3002</div><div><br></div><div>\\u81f3\\u65bc\\u662f\\u5426\\u8981\\u4ee5Style\\u52a0\\u4e0a\\u66f8\\u540d\\u865f\\uff0c\\u4f5c\\u70baOption\\u3002\\u7576\\u7136\\u5c31\\u6709\\u9ede\\u53ef\\u60dc\\u6f22\\u5b57\\u6a19\\u6e96\\u683c\\u5f0f\\u7cbe\\u7f8e\\u7684\\u8a2d\\u8a08\\u4e86\\u3002</div>\\r\\n<div><br></div><div>\\u6700\\u5f8c\\u518d\\u8ac7\\u4e00\\u500b\\u9ad4\\u4f8b\\u4e00\\u81f4\\u6027\\u7684\\u554f\\u984c\\uff0c\\u7576\\u6211\\u5011\\u5728\\u5167\\u6587\\u4e2d\\u51fa\\u73fe\\u66f8\\u540d\\u6642\\uff0c\\u6703\\u9019\\u9ebc\\u8655\\u7406\\uff1a\\u300a\\u6625\\u79cb\\u5de6\\u6c0f\\u50b3\\u300b\\u4e2d\\u63d0\\u53ca\\u22ef\\u22ef</div><div><br></div><div>\\u9019\\u88e1\\u7684\\u300a\\u300b\\u61c9\\u662f\\u6587\\u5b57\\uff0c\\u4f46\\u4e2d\\u9593\\u6bb5\\u843d\\u53c8\\u51fa\\u73fe\\uff1a</div><div><br></div><div>\\u4eba\\u975e\\u8056\\u4eba\\uff0c\\u5b70\\u80fd\\u7121\\u904e\\uff0c\\u904e\\u800c\\u80fd\\u6539\\uff0c \\u5584\\u83ab\\u5927\\u7109</div><div>\\u3000\\u3000\\u2014\\u2014\\u300a\\u6625\\u79cb\\u5de6\\u6c0f\\u50b3\\u300b</div><div><br></div><div>\\u9019\\u88e1\\u6703\\u7528&lt;cite&gt;\\u800c\\u81ea\\u7136\\u52a0\\u4e0a\\u300a\\u300b\\uff0c\\u4f46\\u5167\\u5bb9\\u9ad4\\u4f8b\\u4e0d\\u4e00\\u81f4\\u3002</div>\\r\\n<div><br></div><div>\\u5927\\u6982\\u9019\\u6a23\\u3002</div><div><br></div><br><div>\\r\\n<div style=\"text-indent:0px;letter-spacing:normal;font-variant:normal;text-align:-webkit-auto;font-style:normal;font-weight:normal;line-height:normal;text-transform:none;font-size:medium;white-space:normal;font-family:&#39;Heiti TC&#39;;word-wrap:break-word;word-spacing:0px\">\\r\\n<div style=\"font-variant:normal;letter-spacing:normal;line-height:normal;text-align:-webkit-auto;text-indent:0px;text-transform:none;white-space:normal;word-spacing:0px;word-wrap:break-word\"><div style=\"font-variant:normal;letter-spacing:normal;line-height:normal;text-align:-webkit-auto;text-indent:0px;text-transform:none;white-space:normal;word-spacing:0px;word-wrap:break-word\">\\r\\n<div style=\"font-variant:normal;letter-spacing:normal;line-height:normal;text-align:-webkit-auto;text-indent:0px;text-transform:none;white-space:normal;word-spacing:0px;word-wrap:break-word\"><div style=\"font-variant:normal;letter-spacing:normal;line-height:normal;text-align:-webkit-auto;text-indent:0px;text-transform:none;white-space:normal;word-spacing:0px;word-wrap:break-word\">\\r\\n<div style=\"font-family:Helvetica;font-weight:normal;font-style:normal;margin:0px\"><span style=\"letter-spacing:0px\"><font color=\"#919191\">WANDERER Digital Publishing Inc.</font></span></div><div style=\"margin:0px\"><span style=\"letter-spacing:0px\"><font face=\"Helvetica\" size=\"4\">Bobby Tung</font></span></div>\\r\\n<div style=\"font-family:Helvetica;font-weight:normal;font-style:normal;margin:0px\"><span style=\"letter-spacing:0px\">Mobile\\uff1a+886-975068558</span></div><div style=\"font-family:Helvetica;font-weight:normal;font-style:normal;margin:0px\">\\r\\n<span style=\"letter-spacing:0px\">E-mail\\uff1a<span style=\"letter-spacing:0px\"><a href=\"mailto:bobbytung@wanderer.tw\" target=\"_blank\">bobbytung@wanderer.tw</a></span></span></div><div style=\"font-family:Helvetica;font-weight:normal;font-style:normal;margin:0px\">\\r\\n<span style=\"letter-spacing:0px\">Web\\uff1a<a href=\"http://wanderer.tw/\" style=\"letter-spacing:0px\" target=\"_blank\">http://wanderer.tw</a></span></div></div></div></div></div></div>\\r\\n</div>\\r\\n<br><div><div>Yijun Chen &lt;<a href=\"mailto:ethantw@me.com\" target=\"_blank\">ethantw@me.com</a>&gt; \\u65bc 2013/11/6 \\u4e0b\\u53486:17 \\u5beb\\u9053\\uff1a</div><div><div class=\"h5\"><br><blockquote type=\"cite\"><div style=\"word-wrap:break-word\"><span style=\"font-size:14px\">\\u5927\\u5bb6\\u597d\\uff0c</span><div>\\r\\n<span style=\"font-size:14px\"><br></span></div><div><span style=\"font-size:14px\">\\u6700\\u8fd1\\u5728HTML5.1 Nightly\\u8349\\u6848\\u4e2d\\uff0c`cite`\\u548c`blockqoute`\\u7b49\\u5143\\u7d20\\u7684\\u8a9e\\u7fa9\\u88ab\\u91cd\\u65b0\\u4fee\\u6539\\u4e86\\uff0c`blockqoute`\\u7684\\u4fee\\u6539\\u7528\\u6cd5\\u6700\\u65e9\\u7531Oli\\u63d0\\u51fa[2]\\uff0c\\u76ee\\u524d\\u770b\\u4f3c\\u5408\\u60c5\\u5408\\u7406\\uff1b\\u800c`cite`\\u73fe\\u5728*\\u53ef\\u4ee5\\u7528\\u4f86\\u8868\\u793a\\u4e00\\u6bb5\\u5f15\\u8a00\\u7684\\u4f5c\\u8005\\u548c\\u7db2\\u5740*\\u3002[1] \\u9019\\u548c\\u5176\\u539f\\u672c\\u4e0d\\u65b7\\u5f37\\u8abf\\u7684\\u54f2\\u5b78\\u5927\\u76f8\\u9015\\u5ead\\uff0c\\u66f4\\u9051\\u8ad6\\u5176\\u9810\\u8a2d\\u6a23\\u5f0f\\u53ef\\u80fd\\u5e36\\u4f86\\u7684\\u5371\\u5bb3\\u3002</span></div>\\r\\n<div><span style=\"font-size:14px\"><br></span></div><div><div><span style=\"font-size:14px\">[1]:&nbsp;<a href=\"http://html5doctor.com/cite-and-blockquote-reloaded/\" target=\"_blank\">http://html5doctor.com/cite-and-blockquote-reloaded/</a></span></div>\\r\\n<div><span style=\"font-size:14px\">[2]:&nbsp;<a href=\"http://oli.jp/2011/blockquote/\" target=\"_blank\">http://oli.jp/2011/blockquote/</a></span></div></div><div><span style=\"font-size:14px\"><br></span></div><div><span style=\"font-size:14px\"><br>\\r\\n</span></div><div><span style=\"font-size:14px\">\\u4e00\\u3001\\u539f\\u672c\\u7528\\u65bc\\u6a19\\u793a\\u66f8\\u540d\\u7684\\u529f\\u80fd\\u53ef\\u80fd\\u53d7\\u5230\\u9650\\u5236\\uff0c\\u5982\\u4e0b\\uff0c</span></div><div><span style=\"color:rgb(34,34,34);white-space:pre-wrap;font-size:14px\"><br></span></div><div><font face=\"Menlo\" style=\"font-size:14px\"><span style=\"white-space:pre-wrap\">\\t</span>&lt;blockquote&gt;</font></div>\\r\\n<div><font face=\"Menlo\" style=\"font-size:14px\"><span style=\"white-space:pre-wrap\">\\t\\t</span>&lt;p&gt;My favorite book is <u></u>&lt;!--&lt;cite&gt;At Swim-Two-Birds&lt;/cite&gt;\\u2014&gt;<u></u></font></div><div><span style=\"color:rgb(34,34,34);white-space:pre-wrap;font-size:14px\"><font face=\"Menlo\"><span style=\"white-space:pre-wrap\">\\t\\t</span>&lt;i&gt;At Swim-Two-Birds&lt;/i&gt;&lt;/p&gt;</font></span></div>\\r\\n<div><span style=\"color:rgb(34,34,34);white-space:pre-wrap;font-size:14px\"><font face=\"Menlo\"><span style=\"white-space:pre-wrap\">\\t\\t</span>&lt;footer&gt;- &lt;cite&gt;Mike[tm]Smith&lt;/cite&gt;&lt;/footer&gt;</font></span></div>\\r\\n<div><span style=\"color:rgb(34,34,34);white-space:pre-wrap;font-size:14px\"><font face=\"Menlo\"><span style=\"white-space:pre-wrap\">\\t</span>&lt;/blockquote&gt;</font></span></div><div><span style=\"font-size:14px\"><br></span></div>\\r\\n<div><span style=\"font-size:14px\">* * *</span></div><div><span style=\"font-size:14px\">\\u4e8c\\u3001\\u7121\\u6cd5\\u5224\\u65b7\\u7a76\\u7adf\\u662f\\u66f8\\u540d\\u9084\\u662f\\u4eba\\u540d\\uff0c</span></div><div><span style=\"font-size:14px\"><br></span></div><div><font face=\"Menlo\" style=\"font-size:14px\"><span style=\"white-space:pre-wrap\">\\t</span>&lt;figuare&gt;</font></div>\\r\\n<div><font face=\"Menlo\" style=\"font-size:14px\"><span style=\"white-space:pre-wrap\">\\t\\t</span>&lt;blockquote&gt;</font></div><div><span style=\"font-size:14px\"><font face=\"Menlo\"><span style=\"white-space:pre-wrap\">\\t\\t\\t</span>&lt;p&gt;[something&nbsp;</font><span style=\"font-family:Menlo\">said by&nbsp;</span><span style=\"font-family:Menlo\">Hermione]&lt;/p&gt;</span></span></div>\\r\\n<div><font face=\"Menlo\" style=\"font-size:14px\"><span style=\"white-space:pre-wrap\">\\t\\t</span>&lt;/blockqoute&gt;</font></div><div><font face=\"Menlo\" style=\"font-size:14px\"><span style=\"white-space:pre-wrap\">\\t\\t</span>&lt;footer&gt;\\uff0d&lt;cite&gt;Harry Potter&lt;/cite&gt;&lt;/footer&gt;</font></div>\\r\\n<div><font face=\"Menlo\" style=\"font-size:14px\"><span style=\"white-space:pre-wrap\">\\t</span>&lt;/figuare&gt;</font></div><div><font face=\"Menlo\" style=\"font-size:14px\"><br></font></div><div><font face=\"Menlo\" style=\"font-size:14px\">\\u540c\\u4e0b\\u65b9\\u7bc4\\u4f8b\\u6bd4\\u8f03\\uff0c</font></div>\\r\\n<div><font face=\"Menlo\" style=\"font-size:14px\"><br></font></div><div><div><font face=\"Menlo\" style=\"font-size:14px\"><span style=\"white-space:pre-wrap\">\\t</span>&lt;figuare&gt;</font></div><div><font face=\"Menlo\" style=\"font-size:14px\"><span style=\"white-space:pre-wrap\">\\t\\t</span>&lt;blockquote&gt;</font></div>\\r\\n<div><span style=\"font-size:14px\"><font face=\"Menlo\"><span style=\"white-space:pre-wrap\">\\t\\t\\t</span>&lt;p&gt;[something&nbsp;</font><span style=\"font-family:Menlo\">said by</span><span style=\"font-family:Menlo\">&nbsp;Harry]&lt;/p&gt;</span></span></div>\\r\\n<div><font face=\"Menlo\" style=\"font-size:14px\"><span style=\"white-space:pre-wrap\">\\t\\t</span>&lt;/blockqoute&gt;</font></div><div><font face=\"Menlo\" style=\"font-size:14px\"><span style=\"white-space:pre-wrap\">\\t\\t</span>&lt;footer&gt;\\uff0d&lt;cite&gt;Harry Potter&lt;/cite&gt;&lt;/footer&gt;</font></div>\\r\\n<div><font face=\"Menlo\" style=\"font-size:14px\"><span style=\"white-space:pre-wrap\">\\t</span>&lt;/figuare&gt;</font></div></div><div><font face=\"Menlo\" style=\"font-size:14px\"><br></font></div><div><span style=\"font-size:14px\">\\u539f\\u672c\\u7684\\u7528\\u6cd5\\u53ef\\u4ee5\\u5340\\u5225\\u7a76\\u7adf\\u9019\\u6bb5\\u5f15\\u8a00\\u662f\\u51fa\\u81ea\\u300a\\u54c8\\u5229<span style=\"line-height:25px;text-indent:28px\">\\xb7</span>\\u6ce2\\u7279\\u300b\\u9084\\u662f\\u54c8\\u5229<span style=\"line-height:25px;text-indent:28px\">\\xb7</span>\\u6ce2\\u7279\\uff0c\\u73fe\\u5728\\u5247\\u5fc5\\u9808\\u52a0\\u5165\\u5176\\u4ed6\\u7684microdata\\u6216\\u985e\\u5225\\u3002</span></div>\\r\\n<div><span style=\"font-size:14px\"><br></span></div><div><span style=\"font-size:14px\">* * *</span></div><div><span style=\"font-size:14px\">\\u4e09\\u3001\\u8a72\\u5143\\u7d20\\u539f\\u6709\\u7684\\u66f8\\u540d\\u659c\\u9ad4\\u6a23\\u5f0f\\uff08\\u6216\\u4e2d\\u6587\\u7684\\u66f8\\u540d\\u865f\\uff09\\u5c07\\u88ab\\u6feb\\u7528\\u5c0e\\u81f4\\u7121\\u6cd5*\\u5c08\\u7528\\u65bc*\\u8868\\u9054\\u300c\\u66f8\\u540d\\u300d\\u7684\\u542b\\u7fa9\\uff0c\\u53ef\\u80fd\\u9084\\u5f97\\u7528\\u985e\\u5225class\\u5206\\u5316\\u5176\\u8a9e\\u7fa9\\uff0c\\u589e\\u52a0\\u56f0\\u96e3\\u5ea6\\u3002</span></div><div>\\r\\n<span style=\"font-size:14px\"><br></span></div><div><span style=\"font-size:14px\"><span style=\"line-height:25px;text-indent:28px;color:rgb(51,51,51)\"><font face=\"Menlo\"><span style=\"white-space:pre-wrap\">\\t</span>&lt;p&gt;</font></span><span style=\"line-height:25px;text-indent:28px;color:rgb(51,51,51);font-family:Menlo\">&lt;cite&gt;\\u5b89\\u5a1c\\xb7\\u5361\\u5217\\u5c3c\\u5a1c&lt;/cite&gt;\\u4e2d\\u7684</span><span style=\"line-height:25px;text-indent:28px;color:rgb(51,51,51);font-family:Menlo\">\\u5b89\\u5a1c\\xb7\\u5361\\u5217\\u5c3c\\u5a1c\\u88ab&lt;cite&gt;</span><span style=\"line-height:25px;text-indent:28px;color:rgb(51,51,51);font-family:Menlo\">\\u5df4\\u65af\\u5927\\u6797\\u57fa\\u516c\\u7235\\u5bb6&lt;/cite&gt;\\u9019\\u9ebc\\u5f62\\u5bb9\\uff1a</span></span></div>\\r\\n<div><font face=\"Menlo\" style=\"font-size:14px\"><span style=\"line-height:25px;text-indent:28px;color:rgb(51,51,51)\"><span style=\"white-space:pre-wrap\">\\t</span>&lt;q&gt;</span><span style=\"line-height:25px;text-indent:28px;color:rgb(51,51,51)\">\\u5979\\u90a3\\u7a7f\\u7740\\u7b80\\u6734\\u7684\\u9ed1\\u8863\\u88f3\\u7684\\u59ff\\u6001\\u662f\\u8ff7\\u4eba\\u7684\\uff0c\\u5979\\u90a3\\u5e26\\u7740\\u624b\\u956f\\u7684\\u5706\\u5706\\u7684\\u624b\\u81c2\\u662f\\u8ff7\\u4eba\\u7684\\uff0c\\u5979\\u90a3\\u751f\\u6c14\\u52c3\\u52c3\\u7684\\uff0c\\u7f8e\\u4e3d\\u7684\\u8138\\u86cb\\u662f\\u8ff7\\u4eba\\u53ef\\u4eb2\\u7684\\uff0c\\u5728\\u821e\\u4f1a\\u4e0a\\u2026\\u2026</span><span style=\"line-height:25px;text-indent:28px;color:rgb(51,51,51)\">&lt;/q&gt;</span></font></div>\\r\\n<div><span style=\"line-height:25px;text-indent:28px;color:rgb(51,51,51);font-size:14px\"><font face=\"Menlo\"><span style=\"white-space:pre-wrap\">\\t</span>&lt;/p&gt;</font></span></div><div><span style=\"line-height:25px;text-indent:28px;font-size:14px\"><br>\\r\\n</span></div><div><span style=\"line-height:25px;text-indent:28px;font-size:14px\">\\u5728\\u4e00\\u822c\\u7684\\u700f\\u89bd\\u5668\\u6703\\u986f\\u793a\\u70ba\\uff0c</span></div><div><span style=\"font-size:14px\"><br></span></div><div style=\"text-indent:28px\"><span style=\"font-size:14px\"><span style=\"white-space:pre-wrap\">\\t</span><span style=\"line-height:25px;color:rgb(51,51,51);font-family:Menlo\"><i>\\u5b89\\u5a1c\\xb7\\u5361\\u5217\\u5c3c\\u5a1c</i>\\u4e2d\\u7684</span><span style=\"line-height:25px;color:rgb(51,51,51);font-family:Menlo\">\\u5b89\\u5a1c\\xb7\\u5361\\u5217\\u5c3c\\u5a1c\\u88ab</span><span style><i style=\"color:rgb(51,51,51);font-family:Menlo;line-height:25px\">\\u5df4\\u65af\\u5927\\u6797\\u57fa\\u516c\\u7235\\u5bb6</i><font color=\"#333333\" face=\"Menlo\"><span style=\"line-height:25px\">\\u9019\\u9ebc\\u5f62\\u5bb9\\uff1a\\u300c[\\u2026\\u2026]</span></font></span><span style=\"line-height:25px;color:rgb(51,51,51);font-family:Menlo\">\\u300d</span></span></div>\\r\\n<div><span style=\"text-indent:28px;font-size:14px\"><br></span></div><div><span style=\"text-indent:28px;font-size:14px\">\\u5957\\u7528\\u300c\\u6f22\\u5b57\\u6a19\\u6e96\\u683c\\u5f0f\\u300d\\u7684\\u7db2\\u9801\\u5247\\u66f4\\u96e2\\u8b5c\\u5730\\u6703\\u986f\\u793a\\uff0c</span></div><div><span style=\"text-indent:28px;font-size:14px\"><br></span></div>\\r\\n<div><span style=\"font-size:14px\"><span style=\"text-indent:28px;line-height:25px\"><span style=\"color:rgb(51,51,51)\"><span style=\"font-family:Menlo;font-style:italic;white-space:pre-wrap\">\\t</span>\\u300a<font>\\u5b89\\u5a1c\\xb7\\u5361\\u5217\\u5c3c\\u5a1c\\u300b</font></span>\\u4e2d\\u7684</span><span style=\"text-indent:28px;line-height:25px\"><u>\\u5b89\\u5a1c\\xb7\\u5361\\u5217\\u5c3c\\u5a1c</u>\\u88ab</span><span style=\"line-height:25px;text-indent:28px;color:rgb(51,51,51)\">\\u300a</span><span style=\"text-indent:28px\"><span style=\"line-height:25px\">\\u5df4\\u65af\\u5927\\u6797\\u57fa\\u516c\\u7235\\u5bb6\\u300b</span><span style=\"line-height:25px\">\\u9019\\u9ebc\\u5f62\\u5bb9\\uff1a\\u300c[\\u2026\\u2026]</span></span><span style=\"text-indent:28px;line-height:25px\">\\u300d</span></span></div>\\r\\n<div><span style=\"text-indent:28px;font-size:14px\"><br></span></div><div><span style=\"line-height:25px;text-indent:28px;font-size:14px\">\\u66f4\\u6709\\u751a\\u8005\\uff0c</span></div><div><div><span style=\"font-size:14px\"><span style=\"line-height:25px;text-indent:28px;color:rgb(51,51,51)\"><font face=\"Menlo\"><span style=\"white-space:pre-wrap\">\\t</span>&lt;p&gt;</font></span><span style=\"line-height:25px;text-indent:28px;color:rgb(51,51,51);font-family:Menlo\">&lt;cite&gt;\\u5b89\\u5a1c\\xb7\\u5361\\u5217\\u5c3c\\u5a1c&lt;/cite&gt;\\u4e2d\\u7684&lt;cite&gt;</span><span style=\"line-height:25px;text-indent:28px;color:rgb(51,51,51);font-family:Menlo\">\\u5b89\\u5a1c\\xb7\\u5361\\u5217\\u5c3c\\u5a1c</span><span style=\"line-height:25px;text-indent:28px;color:rgb(51,51,51);font-family:Menlo\">&lt;/cite&gt;</span><span style=\"line-height:25px;text-indent:28px;color:rgb(51,51,51);font-family:Menlo\">\\u9019\\u9ebc\\u5f62\\u5bb9\\u81ea\\u5df1\\uff1a</span></span></div>\\r\\n<div><span style=\"font-size:14px\"><font face=\"Menlo\"><span style=\"line-height:25px;text-indent:28px;color:rgb(51,51,51)\"><span style=\"white-space:pre-wrap\">\\t</span>&lt;q&gt;</span></font><span style=\"line-height:25px;text-indent:28px;color:rgb(51,51,51);font-family:Menlo\">[\\u4e00\\u6bb5\\u8a71]</span><span style=\"line-height:25px;text-indent:28px;color:rgb(51,51,51);font-family:Menlo\">&lt;/q&gt;</span></span></div>\\r\\n<div><span style=\"line-height:25px;text-indent:28px;color:rgb(51,51,51);font-size:14px\"><font face=\"Menlo\"><span style=\"white-space:pre-wrap\">\\t</span>&lt;/p&gt;</font></span></div></div><div><span style=\"font-size:14px\"><br>\\r\\n</span></div><div><span style=\"font-size:14px\">\\u7a76\\u7adf\\u8ab0\\uff08\\u66f8\\u9084\\u662f\\u4eba\\uff09\\u624d\\u662f\\u9019\\u4e8c\\u6bb5\\u8a71\\u7684\\u51fa\\u8655\\uff1f\\u4e5f\\u8a31\\u90fd\\u53ef\\u4ee5\\u662f\\uff0c\\u4f46\\u76f8\\u540c\\u7684\\u5143\\u7d20\\u6a23\\u5f0f\\u5c07\\u96e3\\u4ee5\\u5340\\u5206\\u66f8\\u540d\\u548c\\u4eba\\u540d\\u3002</span></div><div><span style=\"font-size:14px\"><br></span></div><div><span style=\"font-size:14px\"><font face=\"Menlo\"><span style=\"white-space:pre-wrap\">\\t</span>&lt;p&gt;</font><span style=\"line-height:25px;text-indent:28px;color:rgb(51,51,51);font-family:Menlo\">&lt;cite&gt;\\u963fQ\\u6b63\\u50b3&lt;/cite&gt;\\u4e2d\\u7684\\u963fQ\\u88ab\\u4f5c\\u5bb6</span><span style=\"line-height:25px;text-indent:28px;color:rgb(51,51,51);font-family:Menlo\">&lt;cite&gt;\\u5944</span><span style=\"line-height:25px;text-indent:28px;color:rgb(51,51,51);font-family:Menlo\">\\u7d0d</span><span style=\"line-height:25px;text-indent:28px;color:rgb(51,51,51);font-family:Menlo\">&lt;/cite&gt;</span><span style=\"line-height:25px;text-indent:28px;color:rgb(51,51,51);font-family:Menlo\">\\u5982\\u6b64\\u89e3\\u8b80\\uff1a</span></span></div>\\r\\n<div><span style=\"font-size:14px\"><span style=\"line-height:25px;text-indent:28px;color:rgb(51,51,51)\"><font face=\"Menlo\"><span style=\"white-space:pre-wrap\">\\t</span>&lt;q&gt;[\\u4e00\\u6bb5\\u8a71]&lt;/q&gt;</font></span><span style=\"line-height:25px;text-indent:28px;color:rgb(51,51,51);font-family:Menlo\">&lt;/p&gt;</span></span></div>\\r\\n<div><span style=\"font-size:14px\"><span style=\"line-height:25px;text-indent:28px;color:rgb(51,51,51);font-family:Menlo\"><br></span></span></div><div><div><span style=\"font-size:14px\"><font face=\"Menlo\"><span style=\"white-space:pre-wrap\">\\t</span>&lt;p&gt;</font><span style=\"line-height:25px;text-indent:28px;color:rgb(51,51,51);font-family:Menlo\">&lt;cite&gt;\\u963fQ\\u6b63\\u50b3&lt;/cite&gt;\\u4e2d\\u7684\\u963fQ\\u88ab\\u6642\\u5c1a\\u96dc\\u8a8c</span><span style=\"line-height:25px;text-indent:28px;color:rgb(51,51,51);font-family:Menlo\">&lt;cite&gt;Vogue</span><span style=\"line-height:25px;text-indent:28px;color:rgb(51,51,51);font-family:Menlo\">&lt;/cite&gt;\\u7684\\u7e3d\\u7de8\\u8f2f\\u5b89\\u5a1c</span><span style=\"line-height:25px;text-indent:28px;color:rgb(51,51,51);font-family:Menlo\">\\u5982\\u6b64\\u89e3\\u8b80\\uff1a</span></span></div>\\r\\n<div><span style=\"font-size:14px\"><span style=\"line-height:25px;text-indent:28px;color:rgb(51,51,51)\"><font face=\"Menlo\"><span style=\"white-space:pre-wrap\">\\t</span>&lt;q&gt;[\\u4e00\\u6bb5\\u8a71]&lt;/q&gt;</font></span><span style=\"line-height:25px;text-indent:28px;color:rgb(51,51,51);font-family:Menlo\">&lt;/p&gt;</span></span></div>\\r\\n</div><div><span style=\"font-size:14px\"><br></span></div><div><span style=\"font-size:14px\">\\u9019\\u9ebc\\u5beb\\u96e3\\u9053\\u5c31\\u9055\\u53cd\\u8a9e\\u7fa9\\u4e86\\u55ce\\uff1f\\u5982\\u679c\\u6c92\\u6709\\uff0c\\u90a3\\u9ebc\\u5176\\u4e2d\\u7684\\u66f8\\u540d\\u548c\\u4eba\\u540d\\u82e5\\u6c92\\u6709\\u4ee5\\u985e\\u5225\\u5340\\u5206\\uff0c\\u4f55\\u4ee5\\u80fd\\u77e5\\u9053\\u5176\\u70ba\\u66f8\\u540d\\u6216\\u5f15\\u7528\\u4f5c\\u8005\\u4e4b\\u540d\\uff1f\\u4f55\\u4ee5\\u5206\\u5217\\u5176\\u8a9e\\u7fa9\\u6a23\\u5f0f\\uff08\\u66f8\\u540d\\u659c\\u9ad4\\u3001\\u66f8\\u540d\\u865f\\uff1f\\u9084\\u662f\\u5c08\\u540d\\u865f\\uff1f\\uff09</span></div><div><span style=\"font-size:14px\"><br>\\r\\n</span></div><div><span style=\"font-size:14px\">\\u64daSteve\\u5728[1]\\u4e2d\\u7684\\u8aaa\\u6cd5\\uff0c\\u6709\\u90e8\\u5206\\u539f\\u56e0\\u4fc2`&lt;cite&gt;`\\u88ab\\u904e\\u65bc\\u5ee3\\u6cdb\\u5730\\u6feb\\u7528\\uff0c\\u9019\\u6b21\\u7684\\u4fee\\u6539\\u53ef\\u4ee5\\u5927\\u5927\\u589e\\u52a0\\u5be6\\u7528\\u6027\\u3002\\u6211\\u5247\\u6301\\u53cd\\u5c0d\\u610f\\u898b\\uff0c\\u7562\\u7adf\\u9019\\u7834\\u58de\\u4e86\\u539f\\u672c\\u5206\\u5316\\u5b8c\\u6574\\u7684\\u5143\\u7d20\\u4e4b\\u8a9e\\u610f\\uff0c\\u4e5f\\u5c0e\\u81f4\\u9810\\u8a2d\\u7684\\u8a9e\\u610f\\u6a23\\u5f0f\\u7121\\u6cd5\\u7b26\\u5408\\u5206\\u5316\\u5f8c\\u7684\\u9700\\u6c42\\u3002</span></div><div><span style=\"font-size:14px\"><br></span></div><div>\\r\\n<span style=\"font-size:14px\">\\u5e0c\\u671b\\u53ef\\u4ee5\\u770b\\u5230\\u5927\\u5bb6\\u7684\\u770b\\u6cd5\\u548c\\u5206\\u6b67\\u89e3\\u6c7a\\u4e4b\\u9053\\u3002</span></div><div><span style=\"font-size:14px\"><br></span></div><div><span style=\"font-size:14px\"><br></span></div><div><span style=\"font-size:14px\">Chen Yijun,</span></div>\\r\\n<div><span style=\"font-size:14px\">Twitter: @ethantw</span></div><div><br></div></div></blockquote></div></div></div><br></div></blockquote></div><br></div>\\r\\n',\n",
       " '(text/plain)': u'\\u6700\\u8fd1\\u597d\\u591a\\u4e89\\u8bae\\u6027\\u7684\\u6539\\u52a8\\u554a\\u3002\\r\\n\\r\\n\\r\\n\\r\\n2013/11/6 \\u8463\\u798f\\u8208 Bobby Tung <bobbytung@wanderer.tw>\\r\\n\\r\\n> Hi Ethan\\r\\n>\\r\\n> \\u627e\\u4e86\\u4e00\\u4e0bHTMLWG\\u7684\\u8a0e\\u8ad6\\uff0c\\u9019\\u5152\\u6709\\u4e00\\u4e32\\u516b\\u6708\\u7684\\u5c0d\\u8a71\\uff1a\\r\\n>\\r\\n> http://lists.w3.org/Archives/Public/public-html/2013Aug/0067.html\\r\\n>\\r\\n> \\u611f\\u89ba\\u4e0a\\u5c31\\u662f\\u5168\\u4e16\\u754c\\u90fd\\u505a\\u932f\\uff0c\\u8207\\u5176\\u77ef\\u6b63\\u9019\\u4e16\\u754c\\uff0c\\u4e0d\\u5982\\u5c07\\u932f\\u5c31\\u932f\\u3002\\r\\n>\\r\\n> \\u95dc\\u65bc<cite>\\u7684\\u6f14\\u5316\\u53f2\\uff0cKarl\\u5728\\u9019\\u4e32\\u88e1\\u8003\\u64da\\u4e86\\u4e00\\u4e0b\\uff0c\\u7684\\u78ba\\u5728HTML\\r\\n> 4.0.1\\u88e1\\u7684Sample\\u5c31\\u662f\\u53bb<cite>\\u675c\\u9b6f\\u9580</cite>\\u3002\\u4f46\\u5230\\u4e86HTML\\r\\n> 5\\uff0c\\u53c8\\u8981\\u628a\\u4eba\\u540d\\u4e0d\\u7b97\\u5728\\u5167\\u22ef\\u22ef\\u9019\\u9ebc\\u9806\\u4e0b\\u4f86\\u770b\\u7684\\u8a71\\uff0c5.1\\u628a\\u4eba\\u540d\\u52a0\\u56de\\u53bb\\u53cd\\u800c\\u662f\\u6bd4\\u8f03\\u5408\\u7406\\u7684\\u3002\\r\\n>\\r\\n> \\u5728\\u4e2d\\u6587\\u7684\\u5be6\\u969b\\u6848\\u4f8b\\u4e2d\\uff0c\\u5e38\\u898b\\u5230\\u7684\\u7528\\u6cd5\\u5927\\u6982\\u662f\\u9019\\u6a23\\uff1a\\r\\n>\\r\\n> <blockquote>\\r\\n> <p>\\u6211\\u601d\\uff0c\\u6545\\u6211\\u5728</p>\\r\\n> <footer>\\u2014\\u2014<cite>\\u7b1b\\u5361\\u723e</cite></footer>\\r\\n> </blockquote>\\r\\n>\\r\\n> \\u6211\\u66fe\\u6709\\u5728\\u505aEPUB\\u7684\\u6642\\u5019\\uff0c\\u8003\\u91cf\\u5230HTML 5\\u7684\\u898f\\u5b9a\\uff0c\\u800c\\u628a\\u7b1b\\u5361\\u723e\\u52a0\\u4e0a<cite>\\uff0c\\u4f46\\u7e3d\\u611f\\u89ba\\u9019\\u898f\\u7bc4\\u4e0d\\u5408\\u60c5\\u4e5f\\u4e0d\\u5408\\u7406\\u3002\\r\\n>\\r\\n>\\r\\n> \\u6240\\u4ee5\\uff0c\\u6211\\u8d0a\\u6210\\u4ee5microdata\\u4f86\\u8655\\u7406\\u66f8\\u540d\\u3001\\u7bc7\\u540d\\u3001\\u4eba\\u540d\\u3002\\u800c\\u4e14\\u9019\\u9ebc\\u505a\\u5c0d\\u65bc\\u50cfEPUB\\u9019\\u6a23\\u7684\\u7d50\\u69cb\\u5316\\u5167\\u5bb9\\u800c\\u8a00\\uff0c\\u80fd\\u62bd\\u51fa\\u4f86\\u4f5c\\u70baBiblography\\u6216\\u8005Quotation\\u7d22\\u5f15\\u3001\\u751a\\u81f3\\u8a9e\\u7fa9\\u5206\\u6790\\uff0c\\u90fd\\u8f03\\u4f73\\u3002\\r\\n>\\r\\n> \\u4ee5\\u4e0a\\u662f\\u95dc\\u65bc<cite>\\u61c9\\u7528\\u65bc\\u4eba\\u540d\\u7684\\u610f\\u898b\\u3002\\r\\n>\\r\\n> \\u53e6\\u5916\\uff0c\\u5f9e\\u5be6\\u969b\\u66f8\\u4e2d\\u6a19\\u9ede\\u7b26\\u865f\\u7684\\u7528\\u6cd5\\u4f86\\u770b\\u3002\\u4f7f\\u7528\\u6ce2\\u6d6a\\u5e95\\u7dda\\u7532\\u5f0f\\u66f8\\u540d\\u865f\\u6642\\uff0c\\u624d\\u6703\\u4f7f\\u7528\\u5e95\\u7dda\\u5c08\\u540d\\u865f\\u3002\\u82e5\\u4f7f\\u7528\\u4e59\\u5f0f\\u66f8\\u540d\\u865f\\u6642\\uff0c\\u5f80\\u5f80\\u4e0d\\u7528\\u5c08\\u540d\\u865f\\u3002\\r\\n>\\r\\n> \\u800c\\u4e59\\u5f0f\\u66f8\\u540d\\u865f\\u53c8\\u6709\\u8457\\u7bc7\\u540d\\u7684\\u7528\\u6cd5\\uff0c\\u50cf\\uff1a\\r\\n>\\r\\n> 1. \\u9b6f\\u8fc5\\u300a\\u5436\\u558a\\u300b\\u4e2d\\u7684\\u3008\\u72c2\\u4eba\\u65e5\\u8a18\\u3009\\r\\n>\\r\\n> 2. \\u300a\\u79ae\\u8a18\\u30fb\\u5927\\u540c\\u300b\\r\\n>\\r\\n> \\u5149\\u4e0d\\u8ac7\\u4eba\\u540d\\uff0c\\u7bc7\\u540d\\u7528\\u7684\\u55ae\\u66f8\\u540d\\u865f\\u8207\\u66f8\\u540d\\u7528\\u7684\\u96d9\\u66f8\\u540d\\u865f\\u8981\\u600e\\u9ebc\\u5206\\u5225\\uff0c\\u9019\\u4e5f\\u662f\\u500b\\u554f\\u984c\\u3002\\r\\n>\\r\\n> \\u6211\\u7684\\u5efa\\u8b70\\u662f\\uff0c<blockquote>\\u4e2d<cite>\\u4f5c\\u70ba\\u51fa\\u8655\\u7684\\u8a9e\\u7fa9\\u95dc\\u4fc2\\u6700\\u70ba\\u91cd\\u8981\\uff0c\\u4e5f\\u61c9\\u512a\\u5148\\u3002\\r\\n>\\r\\n> \\u81f3\\u65bc\\u662f\\u5426\\u8981\\u4ee5Style\\u52a0\\u4e0a\\u66f8\\u540d\\u865f\\uff0c\\u4f5c\\u70baOption\\u3002\\u7576\\u7136\\u5c31\\u6709\\u9ede\\u53ef\\u60dc\\u6f22\\u5b57\\u6a19\\u6e96\\u683c\\u5f0f\\u7cbe\\u7f8e\\u7684\\u8a2d\\u8a08\\u4e86\\u3002\\r\\n>\\r\\n> \\u6700\\u5f8c\\u518d\\u8ac7\\u4e00\\u500b\\u9ad4\\u4f8b\\u4e00\\u81f4\\u6027\\u7684\\u554f\\u984c\\uff0c\\u7576\\u6211\\u5011\\u5728\\u5167\\u6587\\u4e2d\\u51fa\\u73fe\\u66f8\\u540d\\u6642\\uff0c\\u6703\\u9019\\u9ebc\\u8655\\u7406\\uff1a\\u300a\\u6625\\u79cb\\u5de6\\u6c0f\\u50b3\\u300b\\u4e2d\\u63d0\\u53ca\\u22ef\\u22ef\\r\\n>\\r\\n> \\u9019\\u88e1\\u7684\\u300a\\u300b\\u61c9\\u662f\\u6587\\u5b57\\uff0c\\u4f46\\u4e2d\\u9593\\u6bb5\\u843d\\u53c8\\u51fa\\u73fe\\uff1a\\r\\n>\\r\\n> \\u4eba\\u975e\\u8056\\u4eba\\uff0c\\u5b70\\u80fd\\u7121\\u904e\\uff0c\\u904e\\u800c\\u80fd\\u6539\\uff0c \\u5584\\u83ab\\u5927\\u7109\\r\\n> \\u2014\\u2014\\u300a\\u6625\\u79cb\\u5de6\\u6c0f\\u50b3\\u300b\\r\\n>\\r\\n> \\u9019\\u88e1\\u6703\\u7528<cite>\\u800c\\u81ea\\u7136\\u52a0\\u4e0a\\u300a\\u300b\\uff0c\\u4f46\\u5167\\u5bb9\\u9ad4\\u4f8b\\u4e0d\\u4e00\\u81f4\\u3002\\r\\n>\\r\\n> \\u5927\\u6982\\u9019\\u6a23\\u3002\\r\\n>\\r\\n>\\r\\n> WANDERER Digital Publishing Inc.\\r\\n> Bobby Tung\\r\\n> Mobile\\uff1a+886-975068558\\r\\n> E-mail\\uff1abobbytung@wanderer.tw\\r\\n> Web\\uff1ahttp://wanderer.tw\\r\\n>\\r\\n> Yijun Chen <ethantw@me.com> \\u65bc 2013/11/6 \\u4e0b\\u53486:17 \\u5beb\\u9053\\uff1a\\r\\n>\\r\\n> \\u5927\\u5bb6\\u597d\\uff0c\\r\\n>\\r\\n> \\u6700\\u8fd1\\u5728HTML5.1\\r\\n> Nightly\\u8349\\u6848\\u4e2d\\uff0c`cite`\\u548c`blockqoute`\\u7b49\\u5143\\u7d20\\u7684\\u8a9e\\u7fa9\\u88ab\\u91cd\\u65b0\\u4fee\\u6539\\u4e86\\uff0c`blockqoute`\\u7684\\u4fee\\u6539\\u7528\\u6cd5\\u6700\\u65e9\\u7531Oli\\u63d0\\u51fa[2]\\uff0c\\u76ee\\u524d\\u770b\\u4f3c\\u5408\\u60c5\\u5408\\u7406\\uff1b\\u800c`cite`\\u73fe\\u5728*\\u53ef\\u4ee5\\u7528\\u4f86\\u8868\\u793a\\u4e00\\u6bb5\\u5f15\\u8a00\\u7684\\u4f5c\\u8005\\u548c\\u7db2\\u5740*\\u3002[1]\\r\\n> \\u9019\\u548c\\u5176\\u539f\\u672c\\u4e0d\\u65b7\\u5f37\\u8abf\\u7684\\u54f2\\u5b78\\u5927\\u76f8\\u9015\\u5ead\\uff0c\\u66f4\\u9051\\u8ad6\\u5176\\u9810\\u8a2d\\u6a23\\u5f0f\\u53ef\\u80fd\\u5e36\\u4f86\\u7684\\u5371\\u5bb3\\u3002\\r\\n>\\r\\n> [1]: http://html5doctor.com/cite-and-blockquote-reloaded/\\r\\n> [2]: http://oli.jp/2011/blockquote/\\r\\n>\\r\\n>\\r\\n> \\u4e00\\u3001\\u539f\\u672c\\u7528\\u65bc\\u6a19\\u793a\\u66f8\\u540d\\u7684\\u529f\\u80fd\\u53ef\\u80fd\\u53d7\\u5230\\u9650\\u5236\\uff0c\\u5982\\u4e0b\\uff0c\\r\\n>\\r\\n> <blockquote>\\r\\n> <p>My favorite book is <!--<cite>At Swim-Two-Birds</cite>\\u2014>\\r\\n> <i>At Swim-Two-Birds</i></p>\\r\\n> <footer>- <cite>Mike[tm]Smith</cite></footer>\\r\\n> </blockquote>\\r\\n>\\r\\n> * * *\\r\\n> \\u4e8c\\u3001\\u7121\\u6cd5\\u5224\\u65b7\\u7a76\\u7adf\\u662f\\u66f8\\u540d\\u9084\\u662f\\u4eba\\u540d\\uff0c\\r\\n>\\r\\n> <figuare>\\r\\n> <blockquote>\\r\\n> <p>[something said by Hermione]</p>\\r\\n> </blockqoute>\\r\\n> <footer>\\uff0d<cite>Harry Potter</cite></footer>\\r\\n> </figuare>\\r\\n>\\r\\n> \\u540c\\u4e0b\\u65b9\\u7bc4\\u4f8b\\u6bd4\\u8f03\\uff0c\\r\\n>\\r\\n> <figuare>\\r\\n> <blockquote>\\r\\n> <p>[something said by Harry]</p>\\r\\n> </blockqoute>\\r\\n> <footer>\\uff0d<cite>Harry Potter</cite></footer>\\r\\n> </figuare>\\r\\n>\\r\\n> \\u539f\\u672c\\u7684\\u7528\\u6cd5\\u53ef\\u4ee5\\u5340\\u5225\\u7a76\\u7adf\\u9019\\u6bb5\\u5f15\\u8a00\\u662f\\u51fa\\u81ea\\u300a\\u54c8\\u5229\\xb7\\u6ce2\\u7279\\u300b\\u9084\\u662f\\u54c8\\u5229\\xb7\\u6ce2\\u7279\\uff0c\\u73fe\\u5728\\u5247\\u5fc5\\u9808\\u52a0\\u5165\\u5176\\u4ed6\\u7684microdata\\u6216\\u985e\\u5225\\u3002\\r\\n>\\r\\n> * * *\\r\\n> \\u4e09\\u3001\\u8a72\\u5143\\u7d20\\u539f\\u6709\\u7684\\u66f8\\u540d\\u659c\\u9ad4\\u6a23\\u5f0f\\uff08\\u6216\\u4e2d\\u6587\\u7684\\u66f8\\u540d\\u865f\\uff09\\u5c07\\u88ab\\u6feb\\u7528\\u5c0e\\u81f4\\u7121\\u6cd5*\\u5c08\\u7528\\u65bc*\\u8868\\u9054\\u300c\\u66f8\\u540d\\u300d\\u7684\\u542b\\u7fa9\\uff0c\\u53ef\\u80fd\\u9084\\u5f97\\u7528\\u985e\\u5225class\\u5206\\u5316\\u5176\\u8a9e\\u7fa9\\uff0c\\u589e\\u52a0\\u56f0\\u96e3\\u5ea6\\u3002\\r\\n>\\r\\n> <p><cite>\\u5b89\\u5a1c\\xb7\\u5361\\u5217\\u5c3c\\u5a1c</cite>\\u4e2d\\u7684\\u5b89\\u5a1c\\xb7\\u5361\\u5217\\u5c3c\\u5a1c\\u88ab<cite>\\u5df4\\u65af\\u5927\\u6797\\u57fa\\u516c\\u7235\\u5bb6</cite>\\u9019\\u9ebc\\u5f62\\u5bb9\\uff1a\\r\\n> <q>\\u5979\\u90a3\\u7a7f\\u7740\\u7b80\\u6734\\u7684\\u9ed1\\u8863\\u88f3\\u7684\\u59ff\\u6001\\u662f\\u8ff7\\u4eba\\u7684\\uff0c\\u5979\\u90a3\\u5e26\\u7740\\u624b\\u956f\\u7684\\u5706\\u5706\\u7684\\u624b\\u81c2\\u662f\\u8ff7\\u4eba\\u7684\\uff0c\\u5979\\u90a3\\u751f\\u6c14\\u52c3\\u52c3\\u7684\\uff0c\\u7f8e\\u4e3d\\u7684\\u8138\\u86cb\\u662f\\u8ff7\\u4eba\\u53ef\\u4eb2\\u7684\\uff0c\\u5728\\u821e\\u4f1a\\u4e0a\\u2026\\u2026</q>\\r\\n> </p>\\r\\n>\\r\\n> \\u5728\\u4e00\\u822c\\u7684\\u700f\\u89bd\\u5668\\u6703\\u986f\\u793a\\u70ba\\uff0c\\r\\n>\\r\\n> *\\u5b89\\u5a1c\\xb7\\u5361\\u5217\\u5c3c\\u5a1c*\\u4e2d\\u7684\\u5b89\\u5a1c\\xb7\\u5361\\u5217\\u5c3c\\u5a1c\\u88ab*\\u5df4\\u65af\\u5927\\u6797\\u57fa\\u516c\\u7235\\u5bb6*\\u9019\\u9ebc\\u5f62\\u5bb9\\uff1a\\u300c[\\u2026\\u2026]\\u300d\\r\\n>\\r\\n> \\u5957\\u7528\\u300c\\u6f22\\u5b57\\u6a19\\u6e96\\u683c\\u5f0f\\u300d\\u7684\\u7db2\\u9801\\u5247\\u66f4\\u96e2\\u8b5c\\u5730\\u6703\\u986f\\u793a\\uff0c\\r\\n>\\r\\n> \\u300a\\u5b89\\u5a1c\\xb7\\u5361\\u5217\\u5c3c\\u5a1c\\u300b\\u4e2d\\u7684*\\u5b89\\u5a1c\\xb7\\u5361\\u5217\\u5c3c\\u5a1c*\\u88ab\\u300a\\u5df4\\u65af\\u5927\\u6797\\u57fa\\u516c\\u7235\\u5bb6\\u300b\\u9019\\u9ebc\\u5f62\\u5bb9\\uff1a\\u300c[\\u2026\\u2026]\\u300d\\r\\n>\\r\\n> \\u66f4\\u6709\\u751a\\u8005\\uff0c\\r\\n> <p><cite>\\u5b89\\u5a1c\\xb7\\u5361\\u5217\\u5c3c\\u5a1c</cite>\\u4e2d\\u7684<cite>\\u5b89\\u5a1c\\xb7\\u5361\\u5217\\u5c3c\\u5a1c</cite>\\u9019\\u9ebc\\u5f62\\u5bb9\\u81ea\\u5df1\\uff1a\\r\\n> <q>[\\u4e00\\u6bb5\\u8a71]</q>\\r\\n> </p>\\r\\n>\\r\\n> \\u7a76\\u7adf\\u8ab0\\uff08\\u66f8\\u9084\\u662f\\u4eba\\uff09\\u624d\\u662f\\u9019\\u4e8c\\u6bb5\\u8a71\\u7684\\u51fa\\u8655\\uff1f\\u4e5f\\u8a31\\u90fd\\u53ef\\u4ee5\\u662f\\uff0c\\u4f46\\u76f8\\u540c\\u7684\\u5143\\u7d20\\u6a23\\u5f0f\\u5c07\\u96e3\\u4ee5\\u5340\\u5206\\u66f8\\u540d\\u548c\\u4eba\\u540d\\u3002\\r\\n>\\r\\n> <p><cite>\\u963fQ\\u6b63\\u50b3</cite>\\u4e2d\\u7684\\u963fQ\\u88ab\\u4f5c\\u5bb6<cite>\\u5944\\u7d0d</cite>\\u5982\\u6b64\\u89e3\\u8b80\\uff1a\\r\\n> <q>[\\u4e00\\u6bb5\\u8a71]</q></p>\\r\\n>\\r\\n> <p><cite>\\u963fQ\\u6b63\\u50b3</cite>\\u4e2d\\u7684\\u963fQ\\u88ab\\u6642\\u5c1a\\u96dc\\u8a8c<cite>Vogue</cite>\\u7684\\u7e3d\\u7de8\\u8f2f\\u5b89\\u5a1c\\u5982\\u6b64\\u89e3\\u8b80\\uff1a\\r\\n> <q>[\\u4e00\\u6bb5\\u8a71]</q></p>\\r\\n>\\r\\n>\\r\\n> \\u9019\\u9ebc\\u5beb\\u96e3\\u9053\\u5c31\\u9055\\u53cd\\u8a9e\\u7fa9\\u4e86\\u55ce\\uff1f\\u5982\\u679c\\u6c92\\u6709\\uff0c\\u90a3\\u9ebc\\u5176\\u4e2d\\u7684\\u66f8\\u540d\\u548c\\u4eba\\u540d\\u82e5\\u6c92\\u6709\\u4ee5\\u985e\\u5225\\u5340\\u5206\\uff0c\\u4f55\\u4ee5\\u80fd\\u77e5\\u9053\\u5176\\u70ba\\u66f8\\u540d\\u6216\\u5f15\\u7528\\u4f5c\\u8005\\u4e4b\\u540d\\uff1f\\u4f55\\u4ee5\\u5206\\u5217\\u5176\\u8a9e\\u7fa9\\u6a23\\u5f0f\\uff08\\u66f8\\u540d\\u659c\\u9ad4\\u3001\\u66f8\\u540d\\u865f\\uff1f\\u9084\\u662f\\u5c08\\u540d\\u865f\\uff1f\\uff09\\r\\n>\\r\\n>\\r\\n> \\u64daSteve\\u5728[1]\\u4e2d\\u7684\\u8aaa\\u6cd5\\uff0c\\u6709\\u90e8\\u5206\\u539f\\u56e0\\u4fc2`<cite>`\\u88ab\\u904e\\u65bc\\u5ee3\\u6cdb\\u5730\\u6feb\\u7528\\uff0c\\u9019\\u6b21\\u7684\\u4fee\\u6539\\u53ef\\u4ee5\\u5927\\u5927\\u589e\\u52a0\\u5be6\\u7528\\u6027\\u3002\\u6211\\u5247\\u6301\\u53cd\\u5c0d\\u610f\\u898b\\uff0c\\u7562\\u7adf\\u9019\\u7834\\u58de\\u4e86\\u539f\\u672c\\u5206\\u5316\\u5b8c\\u6574\\u7684\\u5143\\u7d20\\u4e4b\\u8a9e\\u610f\\uff0c\\u4e5f\\u5c0e\\u81f4\\u9810\\u8a2d\\u7684\\u8a9e\\u610f\\u6a23\\u5f0f\\u7121\\u6cd5\\u7b26\\u5408\\u5206\\u5316\\u5f8c\\u7684\\u9700\\u6c42\\u3002\\r\\n>\\r\\n> \\u5e0c\\u671b\\u53ef\\u4ee5\\u770b\\u5230\\u5927\\u5bb6\\u7684\\u770b\\u6cd5\\u548c\\u5206\\u6b67\\u89e3\\u6c7a\\u4e4b\\u9053\\u3002\\r\\n>\\r\\n>\\r\\n> Chen Yijun,\\r\\n> Twitter: @ethantw\\r\\n>\\r\\n>\\r\\n>\\r\\n',\n",
       " 'Signature': None}"
      ]
     },
     "execution_count": 213,
     "metadata": {},
     "output_type": "execute_result"
    }
   ],
   "source": [
    "extract_content(data_list[4], name_list)"
   ]
  },
  {
   "cell_type": "code",
   "execution_count": null,
   "metadata": {
    "collapsed": true
   },
   "outputs": [],
   "source": []
  }
 ],
 "metadata": {
  "kernelspec": {
   "display_name": "Python 2",
   "language": "python",
   "name": "python2"
  },
  "language_info": {
   "codemirror_mode": {
    "name": "ipython",
    "version": 2
   },
   "file_extension": ".py",
   "mimetype": "text/x-python",
   "name": "python",
   "nbconvert_exporter": "python",
   "pygments_lexer": "ipython2",
   "version": "2.7.11"
  }
 },
 "nbformat": 4,
 "nbformat_minor": 0
}
