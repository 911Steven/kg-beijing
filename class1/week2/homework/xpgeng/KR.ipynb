{
 "cells": [
  {
   "cell_type": "markdown",
   "metadata": {},
   "source": [
    "# week2 Assignment\n",
    "\n",
    "## 邮件结构\n",
    "\n",
    "- 将邮件的存储格式分为以下几部分\n",
    "   - 'Metadata': 这部分包含从MIME头提取的信息, 如'From', 'Receive', 'Send_time', 'Subject'等等\n",
    "   - 'Content': 这部分会包含所有的内容信息, 如'Body_text', 'Body_html', 'Recite', 'Attachment', 'Signature'等等\n",
    "   - 'Entities': 包含邮件中提到的各种实体, 如'Name', 'Organization', 'Time', 'Position', 'Tel'\n",
    "   - 'Relation': 包含邮件内的各种关系, 如邮件之间的关系, 邮件内容的语义关系.\n",
    "\n",
    "## 思路\n",
    "\n",
    "- 利用flanker提取MIME头, 将信息初步提取, 这是可以完成'Metadata'部分信息的提取\n",
    "- 利用Regex将邮件内容分解, 段落, 引用, 附件, 签名档一次提取出来.\n",
    "- 利用NLTK, jieba等分词工具, 进一步细化, 提取各个实体.\n",
    "- 最后进行更深入的关系分析提取.\n",
    "- 这样层层递进, 逐渐深入,\n",
    "\n",
    "\n",
    "## 难点\n",
    "\n",
    "- 分段有可能比较混乱, 这里可能会花一点时间\n",
    "- 引用通过'>','>>'来判断\n",
    "- 签名档因为比较复杂, 格式不一, 甚至有的没有, 有的特别简单, 信息不够全面\n",
    "- 关系表示, 邮件内部, 邮件外部\n",
    "\n",
    "## Tips\n",
    "\n",
    "- 邮件的结尾都是--boundary--\n"
   ]
  },
  {
   "cell_type": "code",
   "execution_count": 5,
   "metadata": {
    "collapsed": true
   },
   "outputs": [],
   "source": [
    "import os\n",
    "import re\n",
    "import json\n",
    "import flanker\n",
    "\n",
    "from bs4 import BeautifulSoup\n",
    "from flanker import mime"
   ]
  },
  {
   "cell_type": "markdown",
   "metadata": {},
   "source": [
    "### 读取数据"
   ]
  },
  {
   "cell_type": "code",
   "execution_count": 117,
   "metadata": {
    "collapsed": true
   },
   "outputs": [],
   "source": [
    "def prepare_data(filename='2013-11.mbx'):\n",
    "    with open(filename, 'r') as f:\n",
    "        data = f.read()\n",
    "    f.close()\n",
    "    data_list = filter(None, re.split(r'From\\s([\\w+.?]+@(\\w+\\.)+(\\w+))', data))  #  \n",
    "    # Here I have to add twice for-loop, I haven't analyse the reason\n",
    "    for data in data_list:\n",
    "        if len(str(data)) < 500:\n",
    "            data_list.remove(data)\n",
    "    for data in data_list:\n",
    "        if len(str(data)) < 500:\n",
    "            data_list.remove(data)\n",
    "    return data_list  "
   ]
  },
  {
   "cell_type": "code",
   "execution_count": 118,
   "metadata": {
    "collapsed": false
   },
   "outputs": [],
   "source": [
    "data_list = prepare_data('2013-11.mbx')"
   ]
  },
  {
   "cell_type": "code",
   "execution_count": 120,
   "metadata": {
    "collapsed": true
   },
   "outputs": [],
   "source": [
    "def extract_headers(msg_string):\n",
    "    mime_dict = {}\n",
    "    msg = mime.from_string(msg_string)\n",
    "    msg_list = msg.headers.items()\n",
    "    mime_keys = ['From', 'Date', 'Cc', 'To', 'Subject', ]\n",
    "    for item in msg_list:\n",
    "        if item[0] in mime_keys:\n",
    "            mime_dict[item[0]] = item[1]\n",
    "    return mime_dict"
   ]
  },
  {
   "cell_type": "code",
   "execution_count": 121,
   "metadata": {
    "collapsed": false
   },
   "outputs": [
    {
     "data": {
      "text/plain": [
       "{'Cc': u'\\u4e2d\\u6587HTML5\\u540c\\u6a02\\u6703ML <public-html-ig-zh@w3.org>',\n",
       " 'Date': u'Wed, 6 Nov 2013 20:09:11 +0800',\n",
       " 'From': u'\\u8463\\u798f\\u8208 Bobby Tung <bobbytung@wanderer.tw>',\n",
       " 'Subject': u'Re: \\u95dc\\u65bc<cite>\\u5143\\u7d20\\u6700\\u8fd1\\u7684\\u5b9a\\u7fa9\\u4fee\\u6539',\n",
       " 'To': u'Yijun Chen <ethantw@me.com>'}"
      ]
     },
     "execution_count": 121,
     "metadata": {},
     "output_type": "execute_result"
    }
   ],
   "source": [
    "extract_headers(data_list[3])"
   ]
  },
  {
   "cell_type": "code",
   "execution_count": 33,
   "metadata": {
    "collapsed": false
   },
   "outputs": [
    {
     "name": "stdout",
     "output_type": "stream",
     "text": [
      "Content-Type: (text/plain), Body: Hi friends,\n",
      "\n",
      "In light of the upcoming TPAC, I'd like to suggest a joint meeting between the two IGs. \n",
      "\n",
      "There have been some discussion in the Chinese IG on things related to publishing and I thought it will be nice for us to catch up with the Digital Publishing IG.\n",
      "\n",
      "Agenda\n",
      "\n",
      "0. Mutual introduction\n",
      "1. CSS3 text (some discussion on our side)\n",
      "2. digital publishing requirement for chinese language (Bobby has written a spec/requirement and it'd be nice to know how everyone thinks)\n",
      "3. anything else?\n",
      "\n",
      "This discussion won't be an exhaustive one, rather it is to put names to faces, discuss the agendas, and hopefully drive future online discussions.\n",
      "\n",
      "If everyone is cool, maybe we can do a 90 minute on Thursday during TPAC? \n",
      "\n",
      "---\n",
      "Zi Bin Cheah\n",
      "HTML5 Chinese IG chair\n",
      "\n",
      "\n",
      "\n",
      "Content-Type: (text/html), Body: <html><head></head><body style=\"word-wrap: break-word; -webkit-nbsp-mode: space; -webkit-line-break: after-white-space; \">Hi friends,<br><br>In light of the upcoming TPAC, I'd like to suggest a joint meeting between the two IGs. <br><br>There have been some discussion in the Chinese IG on things related to publishing and I thought it will be nice for us to catch up with the Digital Publishing IG.<br><br>Agenda<br><br>0. Mutual introduction<br>1. CSS3 text (some discussion on our side)<br>2. digital publishing requirement for chinese language (Bobby has written a spec/requirement and it'd be nice to know how everyone thinks)<br>3. anything else?<br><br>This discussion won't be an exhaustive one, rather it is to put names to faces, discuss the agendas, and hopefully drive future online discussions.<br><br>If everyone is cool, maybe we can do a 90 minute on Thursday during TPAC? <br><br>---<br>Zi Bin Cheah<br>HTML5 Chinese IG chair<br><br><div apple-content-edited=\"true\"><span class=\"Apple-style-span\" style=\"border-collapse: separate; color: rgb(0, 0, 0); font-family: Helvetica; font-style: normal; font-variant: normal; font-weight: normal; letter-spacing: normal; line-height: normal; orphans: 2; text-align: -webkit-auto; text-indent: 0px; text-transform: none; white-space: normal; widows: 2; word-spacing: 0px; -webkit-border-horizontal-spacing: 0px; -webkit-border-vertical-spacing: 0px; -webkit-text-decorations-in-effect: none; -webkit-text-size-adjust: auto; -webkit-text-stroke-width: 0px; font-size: medium; \"><span class=\"Apple-style-span\" style=\"border-collapse: separate; color: rgb(0, 0, 0); font-family: Helvetica; font-style: normal; font-variant: normal; font-weight: normal; letter-spacing: normal; line-height: normal; orphans: 2; text-align: -webkit-auto; text-indent: 0px; text-transform: none; white-space: normal; widows: 2; word-spacing: 0px; -webkit-border-horizontal-spacing: 0px; -webkit-border-vertical-spacing: 0px; -webkit-text-decorations-in-effect: none; -webkit-text-size-adjust: auto; -webkit-text-stroke-width: 0px; font-size: medium; \"><div style=\"word-wrap: break-word; -webkit-nbsp-mode: space; -webkit-line-break: after-white-space; \"><span class=\"Apple-style-span\" style=\"border-collapse: separate; color: rgb(0, 0, 0); font-family: Helvetica; font-style: normal; font-variant: normal; font-weight: normal; letter-spacing: normal; line-height: normal; orphans: 2; text-align: -webkit-auto; text-indent: 0px; text-transform: none; white-space: normal; widows: 2; word-spacing: 0px; -webkit-border-horizontal-spacing: 0px; -webkit-border-vertical-spacing: 0px; -webkit-text-decorations-in-effect: none; -webkit-text-size-adjust: auto; -webkit-text-stroke-width: 0px; font-size: medium; \"><div style=\"word-wrap: break-word; -webkit-nbsp-mode: space; -webkit-line-break: after-white-space; \"><div><div><div><br></div></div></div></div></span></div></span></span></div></body></html>\n"
     ]
    }
   ],
   "source": [
    "msg = mime.from_string(data_list[3])\n",
    "for part in msg.parts:\n",
    "    print 'Content-Type: {}, Body: {}'.format(part, part.body)"
   ]
  },
  {
   "cell_type": "code",
   "execution_count": 138,
   "metadata": {
    "collapsed": false
   },
   "outputs": [],
   "source": [
    "def extract_content(message_string):\n",
    "    content_dict = {}\n",
    "    msg = mime.from_string(message_string)   \n",
    "    for part in msg.parts:\n",
    "        content_dict[str(part)] = part.body\n",
    "    return content_dict"
   ]
  },
  {
   "cell_type": "code",
   "execution_count": 146,
   "metadata": {
    "collapsed": false
   },
   "outputs": [],
   "source": [
    "content_dict = extract_content(data_list[3])"
   ]
  },
  {
   "cell_type": "code",
   "execution_count": null,
   "metadata": {
    "collapsed": true
   },
   "outputs": [],
   "source": []
  }
 ],
 "metadata": {
  "kernelspec": {
   "display_name": "Python 2",
   "language": "python",
   "name": "python2"
  },
  "language_info": {
   "codemirror_mode": {
    "name": "ipython",
    "version": 2
   },
   "file_extension": ".py",
   "mimetype": "text/x-python",
   "name": "python",
   "nbconvert_exporter": "python",
   "pygments_lexer": "ipython2",
   "version": "2.7.11"
  }
 },
 "nbformat": 4,
 "nbformat_minor": 0
}
