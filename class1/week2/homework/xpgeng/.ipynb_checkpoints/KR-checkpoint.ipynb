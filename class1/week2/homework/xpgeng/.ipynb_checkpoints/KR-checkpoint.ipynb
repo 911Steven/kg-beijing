{
 "cells": [
  {
   "cell_type": "markdown",
   "metadata": {},
   "source": [
    "# week2 Assignment\n",
    "\n",
    "## 邮件结构\n",
    "\n",
    "- 将邮件的存储格式分为以下几部分\n",
    "   - 'Metadata': 这部分包含从MIME头提取的信息, 如'From', 'Receive', 'Send_time', 'Subject'等等\n",
    "   - 'Content': 这部分会包含所有的内容信息, 如'Body_text', 'Body_html', 'Recite', 'Attachment', 'Signature'等等\n",
    "   - 'Entities': 包含邮件中提到的各种实体, 如'Name', 'Organization', 'Time', 'Position', 'Tel'\n",
    "   - 'Relation': 包含邮件内的各种关系, 如邮件之间的关系, 邮件内容的语义关系.\n",
    "\n",
    "## 思路\n",
    "\n",
    "- 利用flanker提取MIME头, 将信息初步提取, 这是可以完成'Metadata'部分信息的提取\n",
    "- 利用Regex将邮件内容分解, 段落, 引用, 附件, 签名档一次提取出来.\n",
    "- 利用NLTK, jieba等分词工具, 进一步细化, 提取各个实体.\n",
    "- 最后进行更深入的关系分析提取.\n",
    "- 这样层层递进, 逐渐深入,\n",
    "\n",
    "\n",
    "## 难点\n",
    "\n",
    "- 分段有可能比较混乱, 这里可能会花一点时间\n",
    "- 引用通过'>','>>'来判断\n",
    "- 签名档因为比较复杂, 格式不一, 甚至有的没有, 有的特别简单, 信息不够全面\n",
    "- 关系表示, 邮件内部, 邮件外部\n",
    "\n",
    "## Tips\n",
    "\n",
    "- 邮件的结尾都是--boundary--\n",
    "    - 此处有坑\n"
   ]
  },
  {
   "cell_type": "code",
   "execution_count": 224,
   "metadata": {
    "collapsed": true
   },
   "outputs": [],
   "source": [
    "import os\n",
    "import re\n",
    "import json\n",
    "import flanker\n",
    "import jieba.posseg as pseg\n",
    "\n",
    "from bs4 import BeautifulSoup\n",
    "from flanker import mime\n",
    "from nltk.tag import StanfordNERTagger"
   ]
  },
  {
   "cell_type": "code",
   "execution_count": 225,
   "metadata": {
    "collapsed": true
   },
   "outputs": [],
   "source": [
    "# Add models of NLTK  \n",
    "os.environ[\"CLASSPATH\"] = \"/Users/xpgeng/Library/stanford-ner-2015-12-09\"  \n",
    "os.environ[\"STANFORD_MODELS\"] = \"/Users/xpgeng/Library/stanford-ner-2015-12-09/models\""
   ]
  },
  {
   "cell_type": "code",
   "execution_count": 226,
   "metadata": {
    "collapsed": true
   },
   "outputs": [],
   "source": [
    "# Add Tagger\n",
    "st = StanfordNERTagger('/Users/xpgeng/Github/kg-beijing/class1/week1/homework/xpgeng/english.all.3class.distsim.crf.ser.gz')"
   ]
  },
  {
   "cell_type": "markdown",
   "metadata": {},
   "source": [
    "### 读取数据"
   ]
  },
  {
   "cell_type": "code",
   "execution_count": 117,
   "metadata": {
    "collapsed": true
   },
   "outputs": [],
   "source": [
    "def prepare_data(filename='2013-11.mbx'):\n",
    "    with open(filename, 'r') as f:\n",
    "        data = f.read()\n",
    "    f.close()\n",
    "    data_list = filter(None, re.split(r'From\\s([\\w+.?]+@(\\w+\\.)+(\\w+))', data))  #  \n",
    "    # Here I have to add twice for-loop, I haven't analyse the reason\n",
    "    for data in data_list:\n",
    "        if len(str(data)) < 500:\n",
    "            data_list.remove(data)\n",
    "    for data in data_list:\n",
    "        if len(str(data)) < 500:\n",
    "            data_list.remove(data)\n",
    "    return data_list  "
   ]
  },
  {
   "cell_type": "code",
   "execution_count": 118,
   "metadata": {
    "collapsed": false
   },
   "outputs": [],
   "source": [
    "data_list = prepare_data('2013-11.mbx')"
   ]
  },
  {
   "cell_type": "markdown",
   "metadata": {},
   "source": [
    "### 提取MIME头信息, 邮件内容, 签名档"
   ]
  },
  {
   "cell_type": "code",
   "execution_count": 120,
   "metadata": {
    "collapsed": true
   },
   "outputs": [],
   "source": [
    "def extract_headers(msg_string):\n",
    "    mime_dict = {}\n",
    "    msg = mime.from_string(msg_string)\n",
    "    msg_list = msg.headers.items()\n",
    "    mime_keys = ['From', 'Date', 'Cc', 'To', 'Subject', ]\n",
    "    for item in msg_list:\n",
    "        if item[0] in mime_keys:\n",
    "            mime_dict[item[0]] = item[1]\n",
    "    return mime_dict"
   ]
  },
  {
   "cell_type": "code",
   "execution_count": 121,
   "metadata": {
    "collapsed": false
   },
   "outputs": [
    {
     "data": {
      "text/plain": [
       "{'Cc': u'\\u4e2d\\u6587HTML5\\u540c\\u6a02\\u6703ML <public-html-ig-zh@w3.org>',\n",
       " 'Date': u'Wed, 6 Nov 2013 20:09:11 +0800',\n",
       " 'From': u'\\u8463\\u798f\\u8208 Bobby Tung <bobbytung@wanderer.tw>',\n",
       " 'Subject': u'Re: \\u95dc\\u65bc<cite>\\u5143\\u7d20\\u6700\\u8fd1\\u7684\\u5b9a\\u7fa9\\u4fee\\u6539',\n",
       " 'To': u'Yijun Chen <ethantw@me.com>'}"
      ]
     },
     "execution_count": 121,
     "metadata": {},
     "output_type": "execute_result"
    }
   ],
   "source": [
    "extract_headers(data_list[3])"
   ]
  },
  {
   "cell_type": "code",
   "execution_count": 184,
   "metadata": {
    "collapsed": true
   },
   "outputs": [],
   "source": [
    "def create_name_list(data_list):\n",
    "    name_list = []\n",
    "    p = re.compile(ur'\\\"?([\\w\\s\\(\\)]+|[\\x80-\\xff]+)\\\"?\\s<')\n",
    "    for message_string in data_list:\n",
    "        msg = mime.from_string(message_string)\n",
    "        for item in msg.headers.items():\n",
    "            if item[0] == 'From':\n",
    "                name = p.search(item[1].encode('utf-8')).group(1)\n",
    "                name_list.append(name)\n",
    "    name_list = list(set(name_list))\n",
    "    name_list += ['Cindy', 'Kenny', 'Chen Yijun', 'Chunming', '-ambrose']\n",
    "    name_list.remove('com')\n",
    "    name_list.remove(' Chunming')\n",
    "    name_list.remove(' Bobby Tung')\n",
    "    name_list.remove('Hawkeyes Wind')\n",
    "    return name_list"
   ]
  },
  {
   "cell_type": "code",
   "execution_count": 204,
   "metadata": {
    "collapsed": true
   },
   "outputs": [],
   "source": [
    "def extract_signature(message_string, name_list):\n",
    "    signature_list = []\n",
    "    for name in name_list:\n",
    "        p_name = re.compile(r'^%s.+'%name, re.MULTILINE | re.DOTALL)\n",
    "        msg = mime.from_string(message_string)\n",
    "        for part in msg.parts:\n",
    "            if not isinstance(part.body, (type(None), str)):\n",
    "                if p_name.findall(part.body.encode('utf-8')):\n",
    "                    signature_list += p_name.findall(part.body.encode('utf-8'))\n",
    "    signature = None\n",
    "    for item in signature_list:\n",
    "        if len(item) < 300: \n",
    "            signature = item # 已经知道小于300的就一个\n",
    "    if not signature:\n",
    "        return None\n",
    "    elif 'Hawkeyes Wind' in signature or 'Zhiqiang' in signature: # 只能不断添加规则...\n",
    "        return None\n",
    "    elif '<' in signature:\n",
    "        soup = BeautifulSoup(item, 'html.parser')\n",
    "        signature = soup.get_text()\n",
    "        return signature\n",
    "    else:\n",
    "        return signature\n",
    "    "
   ]
  },
  {
   "cell_type": "code",
   "execution_count": 210,
   "metadata": {
    "collapsed": true
   },
   "outputs": [],
   "source": [
    "def extract_content(message_string, name_list):\n",
    "    \n",
    "    content_dict = {}\n",
    "    p = re.compile(ur'\\\"?([\\w\\s\\(\\)]+|[\\x80-\\xff]+)\\\"?\\s<')\n",
    "    msg = mime.from_string(message_string)   \n",
    "    for part in msg.parts:\n",
    "        if not isinstance(part.body, (type(None), str)):\n",
    "            content_dict[str(part)] = part.body\n",
    "    signature = extract_signature(message_string, name_list)\n",
    "    content_dict['Signature'] = signature\n",
    "    return content_dict\n",
    "    # key 未修正, 直接用了带()的值, 附件也未区分, 直接根据content-type有什么添加什么"
   ]
  },
  {
   "cell_type": "code",
   "execution_count": 208,
   "metadata": {
    "collapsed": true
   },
   "outputs": [],
   "source": [
    "name_list = create_name_list(data_list)"
   ]
  },
  {
   "cell_type": "code",
   "execution_count": 214,
   "metadata": {
    "collapsed": false
   },
   "outputs": [
    {
     "data": {
      "text/plain": [
       "{'(text/html)': u'<html><head></head><body style=\"word-wrap: break-word; -webkit-nbsp-mode: space; -webkit-line-break: after-white-space; \">Hi friends,<br><br>In light of the upcoming TPAC, I\\'d like to suggest a joint meeting between the two IGs. <br><br>There have been some discussion in the Chinese IG on things related to publishing and I thought it will be nice for us to catch up with the Digital Publishing IG.<br><br>Agenda<br><br>0. Mutual introduction<br>1. CSS3 text (some discussion on our side)<br>2. digital publishing requirement for chinese language (Bobby has written a spec/requirement and it\\'d be nice to know how everyone thinks)<br>3. anything else?<br><br>This discussion won\\'t be an exhaustive one, rather it is to put names to faces, discuss the agendas, and hopefully drive future online discussions.<br><br>If everyone is cool, maybe we can do a 90 minute on Thursday during TPAC? <br><br>---<br>Zi Bin Cheah<br>HTML5 Chinese IG chair<br><br><div apple-content-edited=\"true\"><span class=\"Apple-style-span\" style=\"border-collapse: separate; color: rgb(0, 0, 0); font-family: Helvetica; font-style: normal; font-variant: normal; font-weight: normal; letter-spacing: normal; line-height: normal; orphans: 2; text-align: -webkit-auto; text-indent: 0px; text-transform: none; white-space: normal; widows: 2; word-spacing: 0px; -webkit-border-horizontal-spacing: 0px; -webkit-border-vertical-spacing: 0px; -webkit-text-decorations-in-effect: none; -webkit-text-size-adjust: auto; -webkit-text-stroke-width: 0px; font-size: medium; \"><span class=\"Apple-style-span\" style=\"border-collapse: separate; color: rgb(0, 0, 0); font-family: Helvetica; font-style: normal; font-variant: normal; font-weight: normal; letter-spacing: normal; line-height: normal; orphans: 2; text-align: -webkit-auto; text-indent: 0px; text-transform: none; white-space: normal; widows: 2; word-spacing: 0px; -webkit-border-horizontal-spacing: 0px; -webkit-border-vertical-spacing: 0px; -webkit-text-decorations-in-effect: none; -webkit-text-size-adjust: auto; -webkit-text-stroke-width: 0px; font-size: medium; \"><div style=\"word-wrap: break-word; -webkit-nbsp-mode: space; -webkit-line-break: after-white-space; \"><span class=\"Apple-style-span\" style=\"border-collapse: separate; color: rgb(0, 0, 0); font-family: Helvetica; font-style: normal; font-variant: normal; font-weight: normal; letter-spacing: normal; line-height: normal; orphans: 2; text-align: -webkit-auto; text-indent: 0px; text-transform: none; white-space: normal; widows: 2; word-spacing: 0px; -webkit-border-horizontal-spacing: 0px; -webkit-border-vertical-spacing: 0px; -webkit-text-decorations-in-effect: none; -webkit-text-size-adjust: auto; -webkit-text-stroke-width: 0px; font-size: medium; \"><div style=\"word-wrap: break-word; -webkit-nbsp-mode: space; -webkit-line-break: after-white-space; \"><div><div><div><br></div></div></div></div></span></div></span></span></div></body></html>',\n",
       " '(text/plain)': u\"Hi friends,\\n\\nIn light of the upcoming TPAC, I'd like to suggest a joint meeting between the two IGs. \\n\\nThere have been some discussion in the Chinese IG on things related to publishing and I thought it will be nice for us to catch up with the Digital Publishing IG.\\n\\nAgenda\\n\\n0. Mutual introduction\\n1. CSS3 text (some discussion on our side)\\n2. digital publishing requirement for chinese language (Bobby has written a spec/requirement and it'd be nice to know how everyone thinks)\\n3. anything else?\\n\\nThis discussion won't be an exhaustive one, rather it is to put names to faces, discuss the agendas, and hopefully drive future online discussions.\\n\\nIf everyone is cool, maybe we can do a 90 minute on Thursday during TPAC? \\n\\n---\\nZi Bin Cheah\\nHTML5 Chinese IG chair\\n\\n\\n\",\n",
       " 'Signature': 'Zi Bin Cheah\\nHTML5 Chinese IG chair\\n\\n\\n'}"
      ]
     },
     "execution_count": 214,
     "metadata": {},
     "output_type": "execute_result"
    }
   ],
   "source": [
    "extract_content(data_list[0], name_list)"
   ]
  },
  {
   "cell_type": "markdown",
   "metadata": {},
   "source": [
    "### 提取实体"
   ]
  },
  {
   "cell_type": "code",
   "execution_count": null,
   "metadata": {
    "collapsed": true
   },
   "outputs": [],
   "source": []
  },
  {
   "cell_type": "code",
   "execution_count": null,
   "metadata": {
    "collapsed": true
   },
   "outputs": [],
   "source": []
  },
  {
   "cell_type": "code",
   "execution_count": null,
   "metadata": {
    "collapsed": true
   },
   "outputs": [],
   "source": []
  },
  {
   "cell_type": "code",
   "execution_count": null,
   "metadata": {
    "collapsed": true
   },
   "outputs": [],
   "source": []
  },
  {
   "cell_type": "code",
   "execution_count": null,
   "metadata": {
    "collapsed": true
   },
   "outputs": [],
   "source": []
  },
  {
   "cell_type": "code",
   "execution_count": null,
   "metadata": {
    "collapsed": true
   },
   "outputs": [],
   "source": []
  },
  {
   "cell_type": "code",
   "execution_count": 222,
   "metadata": {
    "collapsed": false
   },
   "outputs": [
    {
     "name": "stdout",
     "output_type": "stream",
     "text": [
      "('Received', u'from lisa.w3.org ([128.30.52.41])\\tby frink.w3.org with esmtp (Exim 4.72)\\t(envelope-from <hawkeyes0.cn@gmail.com>)\\tid 1Vg4I3-00055D-Aq\\tfor public-html-ig-zh@listhub.w3.org; Tue, 12 Nov 2013 03:05:19 +0000')\n",
      "('Received', u'from mail-pb0-f53.google.com ([209.85.160.53])\\tby lisa.w3.org with esmtps (TLS1.0:RSA_ARCFOUR_SHA1:16)\\t(Exim 4.72)\\t(envelope-from <hawkeyes0.cn@gmail.com>)\\tid 1Vg4I2-000462-9t\\tfor public-html-ig-zh@w3.org; Tue, 12 Nov 2013 03:05:19 +0000')\n",
      "('Received', u'by mail-pb0-f53.google.com with SMTP id up7so6125577pbc.26        for <public-html-ig-zh@w3.org>; Mon, 11 Nov 2013 19:04:51 -0800 (PST)')\n",
      "('Dkim-Signature', u'v=1; a=rsa-sha256; c=relaxed/relaxed;        d=gmail.com; s=20120113;        h=message-id:date:from:user-agent:mime-version:to:cc:subject         :references:in-reply-to:content-type;        bh=PzjpVCFu3us5lBXmTxuAs7UwX5dTHDlsSGmQS1I6c00=;        b=mJ6VNzBsbulgOb9ZMcHj7/+XH2HcESKcy1hCxdgzhnFRrDSWLs+NDLWDSfoaUzePTc         4fHY70swPObsi9Aj/6dYs0EtwhM07BQ799Fi+k4QOW9BJsFhPv8BlNDUKKZG/dhAkgYF         hgtVrbPvna2cOQjb2jzo6IuJHf+yuChMdDbXZ0AhQ+oK2QOgLyIjDoqG475qXhd0v8oF         uItlHQY8Z9nxXSJ7d6QYaKNE2RscaWL5A7HE5z7eXEPMRHT8N8WZL1pExeKsNFbyjN6M         XUOSR6fDIuf0AI0sbNgkrVzRcvIkbbFXR/Bteo2tbhLKtzwVotjWQXKJBwoIRBOvkugS         6cQA==')\n",
      "('X-Received', u'by 10.68.185.68 with SMTP id fa4mr10321890pbc.136.1384225491860;        Mon, 11 Nov 2013 19:04:51 -0800 (PST)')\n",
      "('Received', u'from [192.168.9.252] ([218.249.137.18])        by mx.google.com with ESMTPSA id cw2sm16434752pbb.25.2013.11.11.19.04.48        for <multiple recipients>        (version=TLSv1 cipher=ECDHE-RSA-RC4-SHA bits=128/128);        Mon, 11 Nov 2013 19:04:50 -0800 (PST)')\n",
      "('Message-Id', u'<52819ACE.2000505@gmail.com>')\n",
      "('Date', u'Tue, 12 Nov 2013 11:04:46 +0800')\n",
      "('From', u'Hawkeyes Wind <hawkeyes0.cn@gmail.com>')\n",
      "('User-Agent', u'Mozilla/5.0 (Windows NT 6.1; WOW64; rv:24.0) Gecko/20100101 Thunderbird/24.1.0')\n",
      "('Mime-Version', u'1.0')\n",
      "('To', u'John Hax <johnhax@gmail.com>')\n",
      "('Cc', u'octw chen <oc.tw.mail@gmail.com>, \\u4e2d\\u6587HTML5\\u540c\\u6a02\\u6703ML <public-html-ig-zh@w3.org>')\n",
      "('References', u'<CAMPZEH4Z2Terf85LHkDub-_mNhr9FfoM0ygE2teLB_sONiYr6g@mail.gmail.com>\\t<528090AB.7030700@gmail.com> <CAEeYXHVFztnHHO0CfYGbvnmooRaUCWQ_UWniUXuAWtoL_dc6Fw@mail.gmail.com>')\n",
      "('In-Reply-To', u'<CAEeYXHVFztnHHO0CfYGbvnmooRaUCWQ_UWniUXuAWtoL_dc6Fw@mail.gmail.com>')\n",
      "('Content-Type', ContentType('multipart', 'alternative', {'boundary': u'------------040903010201050801020400'}))\n",
      "('Received-Spf', u'pass client-ip=209.85.160.53; envelope-from=hawkeyes0.cn@gmail.com; helo=mail-pb0-f53.google.com')\n",
      "('X-W3c-Hub-Spam-Status', u'No, score=-2.9')\n",
      "('X-W3c-Hub-Spam-Report', u'AWL=-2.124, DKIM_SIGNED=0.1, DKIM_VALID=-0.1, DKIM_VALID_AU=-0.1, FREEMAIL_FROM=0.001, HTML_MESSAGE=0.001, RCVD_IN_DNSWL_LOW=-0.7, SPF_PASS=-0.001')\n",
      "('X-W3c-Scan-Sig', u'lisa.w3.org 1Vg4I2-000462-9t 8f057c33e33ed8049172dd8bd478aadc')\n",
      "('X-Original-To', u'public-html-ig-zh@w3.org')\n",
      "('Subject', u'Re: \\u6211\\u53ea\\u6709\\u4e00\\u500b\\u7c21\\u55ae\\u7684\\u8acb\\u6c42')\n",
      "('Archived-At', u'<http://www.w3.org/mid/52819ACE.2000505@gmail.com>')\n"
     ]
    }
   ],
   "source": [
    "msg = mime.from_string(data_list[60])\n",
    "msg_list = msg.headers.items()\n",
    "for item in  msg_list:\n",
    "    print item"
   ]
  },
  {
   "cell_type": "code",
   "execution_count": null,
   "metadata": {
    "collapsed": true
   },
   "outputs": [],
   "source": []
  }
 ],
 "metadata": {
  "kernelspec": {
   "display_name": "Python 2",
   "language": "python",
   "name": "python2"
  },
  "language_info": {
   "codemirror_mode": {
    "name": "ipython",
    "version": 2
   },
   "file_extension": ".py",
   "mimetype": "text/x-python",
   "name": "python",
   "nbconvert_exporter": "python",
   "pygments_lexer": "ipython2",
   "version": "2.7.11"
  }
 },
 "nbformat": 4,
 "nbformat_minor": 0
}
