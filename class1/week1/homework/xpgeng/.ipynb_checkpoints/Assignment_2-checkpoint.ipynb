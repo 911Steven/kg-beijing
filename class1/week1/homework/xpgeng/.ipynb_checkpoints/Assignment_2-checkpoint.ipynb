{
 "cells": [
  {
   "cell_type": "markdown",
   "metadata": {},
   "source": [
    "# Assignment_2\n",
    "\n",
    "## 问题\n",
    "- Data: W3C HTML5 中文兴趣小组一个月的邮件存档, 格式mbox\n",
    "- 试定位邮件中的签名档, 并尽可能提取多的字段\n",
    "- 编码的问题, 邮件的编码不统一.\n",
    "\n",
    "\n",
    "## 思考\n",
    "- 是不是应该考虑先来一波暴力提取\n",
    "- 很多乱码, 涉不涉及转码?\n",
    "- 每封邮件的起止位置标识是什么?\n",
    "    - 答: From ....@......\n",
    "- 如何尽可能多的提取信息?\n",
    "    - 如何让正则通用性更高\n",
    "- 新思路: 用分词提取所有姓名, 然后根据每一条邮件内容提取签名档\n",
    "- 因为提取的姓名格式有几个形式不同, 比如 中英混杂, 名字中间带括号.\n",
    "    - 所以考虑先生成一份处理过的name_list, 然后, 编译这份name_list到正则表达式.\n",
    "    - 但是这么做应该会导致程序比较慢, 尤其是当name_list长度特别大时. \n",
    "    - 可以通过观察name_list, 发现里面很多条目是重复的, 因为邮件互相往来嘛... 本着'最小'的理念, 先试试!\n",
    "- 另外一个想法:\n",
    "    - 对全文进行分词, 提取人名, 加之前通过Flanker提取的人名得到一份名单.\n",
    "- 签名档没有固定格式, 感觉找不到一个统一的规则去提取签名档...心塞!\n",
    "    - 难道要写一个巨能容错的正则(规则复杂, 冗长)去匹配, 然后在筛选?\n",
    "\n",
    "\n",
    "## 过程\n",
    "- 根据mbox格式分开每一封邮件\n",
    "- 利用flanker print 邮件内容, 观察是否有一般的提取模式\n",
    "    - 期间遇到了编码问题, 有NoneType, 以及str, 还有Unicode.\n",
    "- 发现无法利用内容提取, 想到利用发件人姓名\n",
    "- 如何提取发件人姓名?\n",
    "    - 利用flanker在header里面找到'From', 可以提取发件人姓名, 邮箱.\n",
    "\n",
    "\n",
    "## References\n",
    "- [mbox-wikipedia](https://en.wikipedia.org/wiki/Mbox)\n",
    "- "
   ]
  },
  {
   "cell_type": "code",
   "execution_count": 2,
   "metadata": {
    "collapsed": true
   },
   "outputs": [],
   "source": [
    "# -*- coding: utf-8 -*-\n",
    "import re\n",
    "import flanker\n",
    "from flanker import mime"
   ]
  },
  {
   "cell_type": "code",
   "execution_count": 3,
   "metadata": {
    "collapsed": true
   },
   "outputs": [],
   "source": [
    "with open('2013-11.mbx', 'r') as f:\n",
    "    data = f.read()"
   ]
  },
  {
   "cell_type": "code",
   "execution_count": 4,
   "metadata": {
    "collapsed": true
   },
   "outputs": [],
   "source": [
    "data_list_2 = re.split(r'From.+ 2013', data)"
   ]
  },
  {
   "cell_type": "code",
   "execution_count": 5,
   "metadata": {
    "collapsed": false
   },
   "outputs": [],
   "source": [
    "data_list = filter(None, re.split(r'From\\s([\\w+.?]+@(\\w+\\.)+(\\w+))', data))  # ([\\w+.?]+@(\\w+\\.)+(\\w+))"
   ]
  },
  {
   "cell_type": "code",
   "execution_count": 6,
   "metadata": {
    "collapsed": false
   },
   "outputs": [
    {
     "data": {
      "text/plain": [
       "672"
      ]
     },
     "execution_count": 6,
     "metadata": {},
     "output_type": "execute_result"
    }
   ],
   "source": [
    "len(data_list)"
   ]
  },
  {
   "cell_type": "code",
   "execution_count": 7,
   "metadata": {
    "collapsed": false
   },
   "outputs": [
    {
     "name": "stdout",
     "output_type": "stream",
     "text": [
      "168\n"
     ]
    }
   ],
   "source": [
    "info_list = []\n",
    "for data in data_list:\n",
    "    msg = mime.from_string(data)\n",
    "    if len(msg.headers.items()) != 0:\n",
    "        info_list.append(data)\n",
    "print len(info_list)"
   ]
  },
  {
   "cell_type": "code",
   "execution_count": 8,
   "metadata": {
    "collapsed": false,
    "scrolled": true
   },
   "outputs": [
    {
     "name": "stdout",
     "output_type": "stream",
     "text": [
      "董福興\n"
     ]
    }
   ],
   "source": [
    "p1 = re.compile(r'([\\x80-\\xff]+)')\n",
    "name = p1.findall('董福興 Bobby Tung')\n",
    "print name[0]"
   ]
  },
  {
   "cell_type": "code",
   "execution_count": 70,
   "metadata": {
    "collapsed": false
   },
   "outputs": [
    {
     "name": "stdout",
     "output_type": "stream",
     "text": [
      "Zi Bin Cheah\n",
      "Zi Bin Cheah\n",
      "Yijun Chen\n",
      " Bobby Tung\n",
      "John Hax\n",
      "Yijun Chen\n",
      "John Hax\n",
      "Zi Bin Cheah\n",
      "一丝\n",
      "Hawkeyes Wind\n",
      "Ambrose LI\n",
      "Hao (Kenny) Lu\n",
      "Hao (Kenny) Lu\n",
      "Bobby Tung\n",
      "Bobby Tung\n",
      "梁海\n",
      "Bobby Tung\n",
      "梁海\n",
      "Bobby Tung\n",
      "梁海\n",
      "Hao (Kenny) Lu\n",
      "Bobby Tung\n",
      "Hao (Kenny) Lu\n",
      "Hawkeyes Wind\n",
      "Hawkeyes Wind\n",
      "octw chen\n",
      "梁海\n",
      "梁海\n",
      "Hawkeyes Wind\n",
      "octw chen\n",
      "octw chen\n",
      "octw chen\n",
      "梁海\n",
      "octw chen\n",
      "梁海\n",
      " Chunming\n",
      "Hawkeyes Wind\n",
      "octw chen\n",
      "octw chen\n",
      "octw chen\n",
      "Bobby Tung\n",
      "Bobby Tung\n",
      "梁海\n",
      "octw chen\n",
      "Bobby Tung\n",
      "octw chen\n",
      "Bobby Tung\n",
      "octw chen\n",
      "octw chen\n",
      "梁海\n",
      "Bobby Tung\n",
      "octw chen\n",
      "梁海\n",
      "octw chen\n",
      "梁海\n",
      "octw chen\n",
      "梁海\n",
      "Bobby Tung\n",
      "John Hax\n",
      "John Hax\n",
      "Hawkeyes Wind\n",
      "Hawkeyes Wind\n",
      "Hawkeyes Wind\n",
      "Xiaoqian Cindy Wu\n",
      "Bobby Tung\n",
      "Xidorn Quan\n",
      "octw chen\n",
      "octw chen\n",
      "Doris Wang\n",
      "Doris Wang\n",
      "John Hax\n",
      "John Hax\n",
      "octw chen\n",
      "John Hax\n",
      "John Hax\n",
      "John Hax\n",
      "John Hax\n",
      "octw chen\n",
      "Doris Wang\n",
      "John Hax\n",
      "梁海\n",
      "梁海\n",
      "Bobby Tung\n",
      "梁海\n",
      "John Hax\n",
      "Bobby Tung\n",
      "梁海\n",
      "octw chen\n",
      "Bobby Tung\n",
      "octw chen\n",
      "octw chen\n",
      "com\n",
      "Hao (Kenny) Lu\n",
      "John Hax\n",
      "Ambrose LI\n",
      "Hawkeyes Wind\n",
      "Hawkeyes Wind\n",
      "Sunruinan\n",
      "John Hax\n",
      "com\n",
      "John Hax\n",
      "octw chen\n",
      "John Hax\n",
      "梁海\n",
      "梁海\n",
      "Hao (Kenny) Lu\n",
      "Zhiqiang Zhang\n",
      " Bobby Tung\n",
      "John Hax\n",
      "梁海\n",
      "John Hax\n",
      "John Hax\n",
      "梁海\n",
      "Bobby Tung\n",
      "octw chen\n",
      "John Hax\n",
      "Bobby Tung\n",
      "John Hax\n",
      "梁海\n",
      "John Hax\n",
      "John Hax\n",
      "John Hax\n",
      "John Hax\n",
      "John Hax\n",
      "octw chen\n",
      "John Hax\n",
      "梁海\n",
      "Bobby Tung\n",
      "梁海\n",
      "Bobby Tung\n",
      "Bobby Tung\n",
      "octw chen\n",
      "Bobby Tung\n",
      "梁海\n",
      "John Hax\n",
      "Bobby Tung\n",
      "Bobby Tung\n",
      "Bobby Tung\n",
      "Bobby Tung\n",
      "吳旭昌\n",
      "John Hax\n",
      "John Hax\n",
      "Ambrose LI\n",
      "Bobby Tung\n",
      "Ambrose LI\n",
      "John Hax\n",
      "Bobby Tung\n",
      "John Hax\n",
      "Bobby Tung\n",
      "John Hax\n",
      "Ambrose LI\n",
      "John Hax\n",
      "Bobby Tung\n",
      "John Hax\n",
      "John Hax\n",
      "Ambrose LI\n",
      "梁海\n",
      "Bobby Tung\n",
      "John Hax\n",
      "Xiaoqian(Cindy) Wu\n",
      "Jingtao Liu\n",
      "Xiaoqian Cindy Wu\n",
      "Jingtao Liu\n",
      " Chunming\n",
      "Xiaoqian Cindy Wu\n",
      "一丝\n",
      "Cheah Zi Bin\n",
      "John Hax\n"
     ]
    }
   ],
   "source": [
    "name_list = []\n",
    "p = re.compile(ur'\\\"?([\\w\\s\\(\\)]+|[\\x80-\\xff]+)\\\"?\\s<')\n",
    "for message_string in info_list:\n",
    "    msg = mime.from_string(message_string)\n",
    "    for item in msg.headers.items():\n",
    "        if item[0] == 'From':\n",
    "            name = p.search(item[1].encode('utf-8')).group(1)\n",
    "            name_list.append(name)\n",
    "            print name\n",
    "    #p_name = re.compile(r'(^%s)|(.+)'%name)\n",
    "    #for part in msg.parts:\n",
    "    #    if not isinstance(part.body, (type(None), str)):\n",
    "    #        print p_name.findall(part.body.encode('utf-8'))"
   ]
  },
  {
   "cell_type": "code",
   "execution_count": 71,
   "metadata": {
    "collapsed": false
   },
   "outputs": [],
   "source": [
    "name_list = list(set(name_list))"
   ]
  },
  {
   "cell_type": "code",
   "execution_count": 72,
   "metadata": {
    "collapsed": false
   },
   "outputs": [],
   "source": [
    "name_list += ['Cindy', 'Kenny', 'Chen Yijun']"
   ]
  },
  {
   "cell_type": "code",
   "execution_count": 73,
   "metadata": {
    "collapsed": false
   },
   "outputs": [],
   "source": [
    "name_list.append('Chunming')"
   ]
  },
  {
   "cell_type": "code",
   "execution_count": 74,
   "metadata": {
    "collapsed": true
   },
   "outputs": [],
   "source": [
    "name_list.append('-ambrose')"
   ]
  },
  {
   "cell_type": "code",
   "execution_count": 75,
   "metadata": {
    "collapsed": false
   },
   "outputs": [],
   "source": [
    "name_list.remove('com')\n",
    "name_list.remove(' Chunming')\n",
    "name_list.remove(' Bobby Tung')"
   ]
  },
  {
   "cell_type": "code",
   "execution_count": 76,
   "metadata": {
    "collapsed": false,
    "scrolled": true
   },
   "outputs": [
    {
     "data": {
      "text/plain": [
       "['Ambrose LI',\n",
       " 'Xiaoqian(Cindy) Wu',\n",
       " '\\xe6\\xa2\\x81\\xe6\\xb5\\xb7',\n",
       " 'Zi Bin Cheah',\n",
       " 'octw chen',\n",
       " 'Xiaoqian Cindy Wu',\n",
       " 'John Hax',\n",
       " 'Hawkeyes Wind',\n",
       " '\\xe4\\xb8\\x80\\xe4\\xb8\\x9d',\n",
       " 'Sunruinan',\n",
       " 'Doris Wang',\n",
       " 'Bobby Tung',\n",
       " 'Xidorn Quan',\n",
       " 'Yijun Chen',\n",
       " '\\xe5\\x90\\xb3\\xe6\\x97\\xad\\xe6\\x98\\x8c',\n",
       " 'Cheah Zi Bin',\n",
       " 'Jingtao Liu',\n",
       " 'Hao (Kenny) Lu',\n",
       " 'Zhiqiang Zhang',\n",
       " 'Cindy',\n",
       " 'Kenny',\n",
       " 'Chen Yijun',\n",
       " 'Chunming',\n",
       " '-ambrose']"
      ]
     },
     "execution_count": 76,
     "metadata": {},
     "output_type": "execute_result"
    }
   ],
   "source": [
    "name_list"
   ]
  },
  {
   "cell_type": "code",
   "execution_count": 86,
   "metadata": {
    "collapsed": false
   },
   "outputs": [],
   "source": [
    "signature_list = []\n",
    "for name in name_list:\n",
    "    p_name = re.compile(r'^%s.+'%name, re.MULTILINE | re.DOTALL)\n",
    "    for info in info_list:\n",
    "        msg = mime.from_string(info)\n",
    "        for part in msg.parts:\n",
    "            if not isinstance(part.body, (type(None), str)):\n",
    "                if p_name.findall(part.body.encode('utf-8')):\n",
    "                    signature_list += p_name.findall(part.body.encode('utf-8'))"
   ]
  },
  {
   "cell_type": "code",
   "execution_count": 95,
   "metadata": {
    "collapsed": false
   },
   "outputs": [
    {
     "name": "stdout",
     "output_type": "stream",
     "text": [
      "Signature: Zi Bin Cheah\n",
      "HTML5 Chinese IG chair\n",
      "\n",
      "\n",
      "\n",
      "Signature: Hawkeyes Wind\n",
      "\n",
      "\n",
      "Signature: Hawkeyes Wind</pre>\n",
      "  </body>\n",
      "</html>\n",
      "\n",
      "Signature: Hawkeyes Wind\n",
      "\n",
      "\n",
      "Signature: Hawkeyes Wind</pre>\n",
      "  </body>\n",
      "</html>\n",
      "\n",
      "Signature: Hawkeyes Wind\n",
      "\n",
      "\n",
      "Signature: Hawkeyes Wind\n",
      "\n",
      "\n",
      "Signature: Hawkeyes Wind\n",
      "\n",
      "\n",
      "Signature: Hawkeyes Wind</pre>\n",
      "  </body>\n",
      "</html>\n",
      "\n",
      "Signature: Hawkeyes Wind\n",
      "\n",
      "\n",
      "Signature: Hawkeyes Wind</pre>\n",
      "  </body>\n",
      "</html>\n",
      "\n",
      "Signature: Hawkeyes Wind</pre>\r\n",
      "  </font></span></div>\r\n",
      "\r\n",
      "</blockquote></div><br></div>\r\n",
      "\n",
      "Signature: Hawkeyes Wind</pre>\r\n",
      "  </font></span></div>\r\n",
      "\r\n",
      "</blockquote></div><br></div>\r\n",
      "</div></div></blockquote></div><br></div></div></div>\r\n",
      "\n",
      "Signature: Hawkeyes Wind\n",
      "\n",
      "\n",
      "Signature: Hawkeyes Wind</pre>\n",
      "  </body>\n",
      "</html>\n",
      "\n",
      "Signature: Hawkeyes Wind\n",
      "\n",
      "\n",
      "Signature: Hawkeyes Wind</pre>\n",
      "  </body>\n",
      "</html>\n",
      "\n",
      "Signature: Hawkeyes Wind</pre>\n",
      "  </font></span></div>\n",
      "\n",
      "</blockquote></div><br></div>\n",
      "\n",
      "Signature: Hawkeyes Wind<br>\r\n",
      "<br>\r\n",
      "<br>\r\n",
      "</font></span></blockquote></div><br></div>\r\n",
      "\n",
      "Signature: Bobby Tung<br>\r\n",
      "Mobile：+886-975068558<br>\r\n",
      "<a href=\"mailto:bobbytung@wanderer.tw\">bobbytung@wanderer.tw</a><br>\r\n",
      "Web：<a href=\"http://wanderer.tw\" target=\"_blank\">http://wanderer.tw</a><br>\r\n",
      "<br>\r\n",
      "<br>\r\n",
      "</blockquote></div><br></div>\r\n",
      "\n",
      "Signature: Bobby Tung<br>\r\n",
      "Mobile：+886-975068558<br>\r\n",
      "<a href=\"mailto:bobbytung@wanderer.tw\" target=\"_blank\">bobbytung@wanderer.tw</a><br>\r\n",
      "Web：<a href=\"http://wanderer.tw\" target=\"_blank\">http://wanderer.tw</a><br>\r\n",
      "<br>\r\n",
      "<br>\r\n",
      "</blockquote></div><br></div>\r\n",
      "</div></div></blockquote></div><br></div>\r\n",
      "\n",
      "Signature: Kenny\n",
      "</pre>\n",
      "    </blockquote>\n",
      "    <br>\n",
      "    <pre class=\"moz-signature\" cols=\"72\">-- \n",
      "Regards\n",
      "\n",
      "Hawkeyes Wind</pre>\n",
      "  </body>\n",
      "</html>\n",
      "\n",
      "Signature: Kenny\r\n",
      "--\r\n",
      "Web Specialist, Opera Sphinx Game Force, Oupeng Browser, Beijing\r\n",
      "Try Oupeng: http://www.oupeng.com/\r\n",
      "\r\n",
      "\r\n",
      "\r\n",
      "--\r\n",
      "Thanks,\r\n",
      "Zhiqiang\r\n",
      "\n",
      "Signature: Chen Yijun,\r\n",
      "Twitter: @ethantw\r\n",
      "\r\n",
      "\n",
      "Signature: -ambrose &lt;<a href=\"http://gniw.ca\" target=\"_blank\">http://gniw.ca</a>&gt;<br>\n",
      "<br>\n",
      "</font></span></blockquote></div><br><br clear=\"all\"><br></div></div>\n",
      "</div></blockquote></body></html>\n",
      "Signature: -ambrose &lt;<a href=\"http://gniw.ca\" target=\"_blank\">http://gniw.ca</a>&gt;<br>\n",
      "<br>\n",
      "</font></span></blockquote></div><br><br clear=\"all\"><br></div></div>\n",
      "</div></blockquote></body></html>\n"
     ]
    }
   ],
   "source": [
    "cut_list = []\n",
    "for item in signature_list:\n",
    "    if len(item) < 300:\n",
    "        cut_list.append(item)\n",
    "for item in cut_list:\n",
    "    print \"Signature: %s\" %item"
   ]
  },
  {
   "cell_type": "code",
   "execution_count": null,
   "metadata": {
    "collapsed": true
   },
   "outputs": [],
   "source": [
    "for message_string in info_list:\n",
    "    msg = mime.from_string(message_string)\n",
    "    for name in name_list:\n",
    "       p_name = re.compile(r'(^%s)|(.+)'%name)\n",
    "    #for part in msg.parts:\n",
    "    #    if not isinstance(part.body, (type(None), str)):\n",
    "    #        print p_name.findall(part.body.encode('utf-8'))"
   ]
  },
  {
   "cell_type": "code",
   "execution_count": null,
   "metadata": {
    "collapsed": true
   },
   "outputs": [],
   "source": []
  }
 ],
 "metadata": {
  "kernelspec": {
   "display_name": "Python 2",
   "language": "python",
   "name": "python2"
  },
  "language_info": {
   "codemirror_mode": {
    "name": "ipython",
    "version": 2
   },
   "file_extension": ".py",
   "mimetype": "text/x-python",
   "name": "python",
   "nbconvert_exporter": "python",
   "pygments_lexer": "ipython2",
   "version": "2.7.11"
  }
 },
 "nbformat": 4,
 "nbformat_minor": 0
}
